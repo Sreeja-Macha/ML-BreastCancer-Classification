{
  "cells": [
    {
      "cell_type": "markdown",
      "metadata": {
        "id": "M78DJQT1-t4q"
      },
      "source": [
        "#                                **ML-BreastCancer-Classification**\n",
        "\n",
        "#                                  Sreeja Macha, Colin Chen, Jessica Yang"
      ]
    },
    {
      "cell_type": "markdown",
      "metadata": {
        "id": "2whoBCFE-t4w"
      },
      "source": [
        "## 1. **Data Exploration and Visualization**\n",
        "- Explore the Breast Cancer Dataset.\n",
        "- Provide visualizations such as histograms, scatter plots, or box plots to understand the distribution of different features.\n",
        "- Include any other plots you find interesting and provide brief interpretations."
      ]
    },
    {
      "cell_type": "code",
      "execution_count": null,
      "metadata": {
        "id": "zLjtvShR-t40"
      },
      "outputs": [],
      "source": [
        "# Import necessary libraries for data manipulation, analysis, and visualization\n",
        "import pandas as pd\n",
        "import numpy as np\n",
        "import matplotlib.pyplot as plt\n",
        "import seaborn as sns\n",
        "import statsmodels.api as sm\n",
        "import statsmodels.formula.api as smf\n",
        "from sklearn.model_selection import KFold\n",
        "\n",
        "# Load the Breast Cancer dataset into a pandas DataFrame\n",
        "cancer_df = pd.read_csv(\"Cancer.csv\")\n",
        "\n",
        "# Remove any 'Unnamed' columns\n",
        "cancer_df = cancer_df.loc[:, ~cancer_df.columns.str.contains('^Unnamed')]\n",
        "\n",
        "# Drop the 'id' column as it is not useful for analysis\n",
        "cancer_df = cancer_df.drop(columns = 'id')\n",
        "\n",
        "# Drop any rows with missing values\n",
        "cancer_df = cancer_df.dropna()"
      ]
    },
    {
      "cell_type": "code",
      "execution_count": null,
      "metadata": {
        "colab": {
          "base_uri": "https://localhost:8080/"
        },
        "id": "l7gBZr-S-t41",
        "outputId": "9fececa8-e92d-4e64-de72-88fc600a611f"
      },
      "outputs": [
        {
          "output_type": "stream",
          "name": "stdout",
          "text": [
            "  diagnosis  radius_mean  texture_mean  perimeter_mean  area_mean  \\\n",
            "0         M        17.99         10.38          122.80     1001.0   \n",
            "1         M        20.57         17.77          132.90     1326.0   \n",
            "2         M        19.69         21.25          130.00     1203.0   \n",
            "3         M        11.42         20.38           77.58      386.1   \n",
            "4         M        20.29         14.34          135.10     1297.0   \n",
            "5         M        12.45         15.70           82.57      477.1   \n",
            "\n",
            "   smoothness_mean  compactness_mean  concavity_mean  concave_points_mean  \\\n",
            "0          0.11840           0.27760          0.3001              0.14710   \n",
            "1          0.08474           0.07864          0.0869              0.07017   \n",
            "2          0.10960           0.15990          0.1974              0.12790   \n",
            "3          0.14250           0.28390          0.2414              0.10520   \n",
            "4          0.10030           0.13280          0.1980              0.10430   \n",
            "5          0.12780           0.17000          0.1578              0.08089   \n",
            "\n",
            "   symmetry_mean  ...  radius_worst  texture_worst  perimeter_worst  \\\n",
            "0         0.2419  ...         25.38          17.33           184.60   \n",
            "1         0.1812  ...         24.99          23.41           158.80   \n",
            "2         0.2069  ...         23.57          25.53           152.50   \n",
            "3         0.2597  ...         14.91          26.50            98.87   \n",
            "4         0.1809  ...         22.54          16.67           152.20   \n",
            "5         0.2087  ...         15.47          23.75           103.40   \n",
            "\n",
            "   area_worst  smoothness_worst  compactness_worst  concavity_worst  \\\n",
            "0      2019.0            0.1622             0.6656           0.7119   \n",
            "1      1956.0            0.1238             0.1866           0.2416   \n",
            "2      1709.0            0.1444             0.4245           0.4504   \n",
            "3       567.7            0.2098             0.8663           0.6869   \n",
            "4      1575.0            0.1374             0.2050           0.4000   \n",
            "5       741.6            0.1791             0.5249           0.5355   \n",
            "\n",
            "   concave_points_worst  symmetry_worst  fractal_dimension_worst  \n",
            "0                0.2654          0.4601                  0.11890  \n",
            "1                0.1860          0.2750                  0.08902  \n",
            "2                0.2430          0.3613                  0.08758  \n",
            "3                0.2575          0.6638                  0.17300  \n",
            "4                0.1625          0.2364                  0.07678  \n",
            "5                0.1741          0.3985                  0.12440  \n",
            "\n",
            "[6 rows x 31 columns]\n"
          ]
        }
      ],
      "source": [
        "# Display the first 6 rows of the DataFrame\n",
        "print(cancer_df.head(6))"
      ]
    },
    {
      "cell_type": "code",
      "execution_count": null,
      "metadata": {
        "colab": {
          "base_uri": "https://localhost:8080/"
        },
        "id": "m5SDnBEX_Tpn",
        "outputId": "047abc27-69d9-4de5-b0e5-44d2b007b045"
      },
      "outputs": [
        {
          "output_type": "stream",
          "name": "stdout",
          "text": [
            "<class 'pandas.core.frame.DataFrame'>\n",
            "RangeIndex: 569 entries, 0 to 568\n",
            "Data columns (total 31 columns):\n",
            " #   Column                   Non-Null Count  Dtype  \n",
            "---  ------                   --------------  -----  \n",
            " 0   diagnosis                569 non-null    object \n",
            " 1   radius_mean              569 non-null    float64\n",
            " 2   texture_mean             569 non-null    float64\n",
            " 3   perimeter_mean           569 non-null    float64\n",
            " 4   area_mean                569 non-null    float64\n",
            " 5   smoothness_mean          569 non-null    float64\n",
            " 6   compactness_mean         569 non-null    float64\n",
            " 7   concavity_mean           569 non-null    float64\n",
            " 8   concave_points_mean      569 non-null    float64\n",
            " 9   symmetry_mean            569 non-null    float64\n",
            " 10  fractal_dimension_mean   569 non-null    float64\n",
            " 11  radius_se                569 non-null    float64\n",
            " 12  texture_se               569 non-null    float64\n",
            " 13  perimeter_se             569 non-null    float64\n",
            " 14  area_se                  569 non-null    float64\n",
            " 15  smoothness_se            569 non-null    float64\n",
            " 16  compactness_se           569 non-null    float64\n",
            " 17  concavity_se             569 non-null    float64\n",
            " 18  concave_points_se        569 non-null    float64\n",
            " 19  symmetry_se              569 non-null    float64\n",
            " 20  fractal_dimension_se     569 non-null    float64\n",
            " 21  radius_worst             569 non-null    float64\n",
            " 22  texture_worst            569 non-null    float64\n",
            " 23  perimeter_worst          569 non-null    float64\n",
            " 24  area_worst               569 non-null    float64\n",
            " 25  smoothness_worst         569 non-null    float64\n",
            " 26  compactness_worst        569 non-null    float64\n",
            " 27  concavity_worst          569 non-null    float64\n",
            " 28  concave_points_worst     569 non-null    float64\n",
            " 29  symmetry_worst           569 non-null    float64\n",
            " 30  fractal_dimension_worst  569 non-null    float64\n",
            "dtypes: float64(30), object(1)\n",
            "memory usage: 137.9+ KB\n",
            "None\n"
          ]
        }
      ],
      "source": [
        "# Display the DataFrame's structure, data types, and non-null value counts\n",
        "print(cancer_df.info())"
      ]
    },
    {
      "cell_type": "code",
      "execution_count": null,
      "metadata": {
        "colab": {
          "base_uri": "https://localhost:8080/"
        },
        "id": "JbOk1Th1_Tpo",
        "outputId": "04892d30-0e34-4985-c378-e39ef488fad5"
      },
      "outputs": [
        {
          "output_type": "stream",
          "name": "stdout",
          "text": [
            "       diagnosis  radius_mean  texture_mean  perimeter_mean    area_mean  \\\n",
            "count        569   569.000000    569.000000      569.000000   569.000000   \n",
            "unique         2          NaN           NaN             NaN          NaN   \n",
            "top            B          NaN           NaN             NaN          NaN   \n",
            "freq         357          NaN           NaN             NaN          NaN   \n",
            "mean         NaN    14.127292     19.289649       91.969033   654.889104   \n",
            "std          NaN     3.524049      4.301036       24.298981   351.914129   \n",
            "min          NaN     6.981000      9.710000       43.790000   143.500000   \n",
            "25%          NaN    11.700000     16.170000       75.170000   420.300000   \n",
            "50%          NaN    13.370000     18.840000       86.240000   551.100000   \n",
            "75%          NaN    15.780000     21.800000      104.100000   782.700000   \n",
            "max          NaN    28.110000     39.280000      188.500000  2501.000000   \n",
            "\n",
            "        smoothness_mean  compactness_mean  concavity_mean  \\\n",
            "count        569.000000        569.000000      569.000000   \n",
            "unique              NaN               NaN             NaN   \n",
            "top                 NaN               NaN             NaN   \n",
            "freq                NaN               NaN             NaN   \n",
            "mean           0.096360          0.104341        0.088799   \n",
            "std            0.014064          0.052813        0.079720   \n",
            "min            0.052630          0.019380        0.000000   \n",
            "25%            0.086370          0.064920        0.029560   \n",
            "50%            0.095870          0.092630        0.061540   \n",
            "75%            0.105300          0.130400        0.130700   \n",
            "max            0.163400          0.345400        0.426800   \n",
            "\n",
            "        concave_points_mean  symmetry_mean  ...  radius_worst  texture_worst  \\\n",
            "count            569.000000     569.000000  ...    569.000000     569.000000   \n",
            "unique                  NaN            NaN  ...           NaN            NaN   \n",
            "top                     NaN            NaN  ...           NaN            NaN   \n",
            "freq                    NaN            NaN  ...           NaN            NaN   \n",
            "mean               0.048919       0.181162  ...     16.269190      25.677223   \n",
            "std                0.038803       0.027414  ...      4.833242       6.146258   \n",
            "min                0.000000       0.106000  ...      7.930000      12.020000   \n",
            "25%                0.020310       0.161900  ...     13.010000      21.080000   \n",
            "50%                0.033500       0.179200  ...     14.970000      25.410000   \n",
            "75%                0.074000       0.195700  ...     18.790000      29.720000   \n",
            "max                0.201200       0.304000  ...     36.040000      49.540000   \n",
            "\n",
            "        perimeter_worst   area_worst  smoothness_worst  compactness_worst  \\\n",
            "count        569.000000   569.000000        569.000000         569.000000   \n",
            "unique              NaN          NaN               NaN                NaN   \n",
            "top                 NaN          NaN               NaN                NaN   \n",
            "freq                NaN          NaN               NaN                NaN   \n",
            "mean         107.261213   880.583128          0.132369           0.254265   \n",
            "std           33.602542   569.356993          0.022832           0.157336   \n",
            "min           50.410000   185.200000          0.071170           0.027290   \n",
            "25%           84.110000   515.300000          0.116600           0.147200   \n",
            "50%           97.660000   686.500000          0.131300           0.211900   \n",
            "75%          125.400000  1084.000000          0.146000           0.339100   \n",
            "max          251.200000  4254.000000          0.222600           1.058000   \n",
            "\n",
            "        concavity_worst  concave_points_worst  symmetry_worst  \\\n",
            "count        569.000000            569.000000      569.000000   \n",
            "unique              NaN                   NaN             NaN   \n",
            "top                 NaN                   NaN             NaN   \n",
            "freq                NaN                   NaN             NaN   \n",
            "mean           0.272188              0.114606        0.290076   \n",
            "std            0.208624              0.065732        0.061867   \n",
            "min            0.000000              0.000000        0.156500   \n",
            "25%            0.114500              0.064930        0.250400   \n",
            "50%            0.226700              0.099930        0.282200   \n",
            "75%            0.382900              0.161400        0.317900   \n",
            "max            1.252000              0.291000        0.663800   \n",
            "\n",
            "        fractal_dimension_worst  \n",
            "count                569.000000  \n",
            "unique                      NaN  \n",
            "top                         NaN  \n",
            "freq                        NaN  \n",
            "mean                   0.083946  \n",
            "std                    0.018061  \n",
            "min                    0.055040  \n",
            "25%                    0.071460  \n",
            "50%                    0.080040  \n",
            "75%                    0.092080  \n",
            "max                    0.207500  \n",
            "\n",
            "[11 rows x 31 columns]\n"
          ]
        }
      ],
      "source": [
        "# Output summary statistics for all columns in the DataFrame\n",
        "print(cancer_df.describe(include='all'))"
      ]
    },
    {
      "cell_type": "code",
      "execution_count": null,
      "metadata": {
        "colab": {
          "base_uri": "https://localhost:8080/"
        },
        "id": "AyKdmZFB_Tpp",
        "outputId": "e8c4faf4-9c18-4735-e407-a0a5f05a6fd3"
      },
      "outputs": [
        {
          "output_type": "stream",
          "name": "stdout",
          "text": [
            "diagnosis\n",
            "B    62.741652\n",
            "M    37.258348\n",
            "Name: proportion, dtype: float64\n",
            "Within the Breast Cancer dataset, 62.74% of the cases are Benign (B), and 37.25% are Malignant (M). This distribution shows a higher prevalence of benign cases in the dataset.\n"
          ]
        }
      ],
      "source": [
        "# Calculate the percentage of each diagnosis category in the dataset\n",
        "diagnosis_percentage = cancer_df['diagnosis'].value_counts(normalize=True) * 100\n",
        "\n",
        "# Display the percentage of each diagnosis category\n",
        "print(diagnosis_percentage)\n",
        "\n",
        "print(\"Within the Breast Cancer dataset, 62.74% of the cases are Benign (B), and 37.25% are Malignant (M). This distribution shows a higher prevalence of benign cases in the dataset.\")"
      ]
    },
    {
      "cell_type": "code",
      "execution_count": null,
      "metadata": {
        "colab": {
          "base_uri": "https://localhost:8080/",
          "height": 581
        },
        "id": "FTF_09cz-t41",
        "outputId": "8ca7e159-f584-4103-dd03-a4212b0e049d"
      },
      "outputs": [
        {
          "output_type": "display_data",
          "data": {
            "text/plain": [
              "<Figure size 1000x600 with 1 Axes>"
            ],
            "image/png": "[encoded data removed]"
          },
          "metadata": {}
        },
        {
          "output_type": "stream",
          "name": "stdout",
          "text": [
            "The bar plot shows a higher count of benign cases compared to malignant ones within the dataset, indicating a prevalence of benign diagnoses.\n"
          ]
        }
      ],
      "source": [
        "# Create a bar plot for the frequency of B (Benign) and M (Malignant) diagnoses\n",
        "\n",
        "# Get the counts of each diagnosis category\n",
        "diagnosis_counts = cancer_df['diagnosis'].value_counts()\n",
        "\n",
        "plt.figure(figsize=(10, 6))\n",
        "diagnosis_counts.plot(kind='bar')\n",
        "plt.xlabel('Diagnosis')\n",
        "plt.ylabel('Frequency')\n",
        "plt.title('Frequency of B (Benign) and M (Malignant) Diagnoses')\n",
        "plt.xticks(rotation=0)\n",
        "plt.show()\n",
        "\n",
        "print(\"The bar plot shows a higher count of benign cases compared to malignant ones within the dataset, indicating a prevalence of benign diagnoses.\")"
      ]
    },
    {
      "cell_type": "code",
      "execution_count": null,
      "metadata": {
        "colab": {
          "base_uri": "https://localhost:8080/",
          "height": 524
        },
        "id": "_ik1u2Xw-t42",
        "outputId": "ce4bbd42-7fe3-4e7f-b747-034d07c2171a"
      },
      "outputs": [
        {
          "output_type": "display_data",
          "data": {
            "text/plain": [
              "<Figure size 1000x500 with 1 Axes>"
            ],
            "image/png": "[encoded data removed]"
          },
          "metadata": {}
        },
        {
          "output_type": "stream",
          "name": "stdout",
          "text": [
            "The histogram shows the distribution of 'radius_mean' across the dataset with a right-skewed pattern, indicating that most tumors have a smaller average radius, with fewer instances of larger radius.\n"
          ]
        }
      ],
      "source": [
        "# Create a histogram to visualize the distribution of 'radius_mean' feature\n",
        "plt.figure(figsize=(10, 5))\n",
        "plt.hist(cancer_df['radius_mean'], bins=20, edgecolor='black', alpha=0.7)\n",
        "plt.title(\"Histogram of radius_mean\")\n",
        "plt.xlabel(\"radius_mean\")\n",
        "plt.ylabel(\"Frequency\")\n",
        "plt.show()\n",
        "print(\"The histogram shows the distribution of 'radius_mean' across the dataset with a right-skewed pattern, indicating that most tumors have a smaller average radius, with fewer instances of larger radius.\")"
      ]
    },
    {
      "cell_type": "code",
      "execution_count": null,
      "metadata": {
        "colab": {
          "base_uri": "https://localhost:8080/",
          "height": 524
        },
        "id": "wsjYFGh--t43",
        "outputId": "6df18628-8a01-4896-eadf-9bd46b7d070f"
      },
      "outputs": [
        {
          "output_type": "display_data",
          "data": {
            "text/plain": [
              "<Figure size 1000x500 with 1 Axes>"
            ],
            "image/png": "[encoded data removed]"
          },
          "metadata": {}
        },
        {
          "output_type": "stream",
          "name": "stdout",
          "text": [
            "The histogram displays the distribution of 'texture_mean' with a peak around the mid-range values and tails off towards higher values, suggesting a normal to mildly right-skewed distribution.\n"
          ]
        }
      ],
      "source": [
        "# Create a histogram to visualize the distribution of 'texture_mean' feature\n",
        "plt.figure(figsize=(10, 5))\n",
        "plt.hist(cancer_df['texture_mean'], bins=20, edgecolor='black', alpha=0.7)\n",
        "plt.title(\"Histogram of texture_mean\")\n",
        "plt.xlabel(\"texture_mean\")\n",
        "plt.ylabel(\"Frequency\")\n",
        "plt.show()\n",
        "print(\"The histogram displays the distribution of 'texture_mean' with a peak around the mid-range values and tails off towards higher values, suggesting a normal to mildly right-skewed distribution.\")"
      ]
    },
    {
      "cell_type": "code",
      "execution_count": null,
      "metadata": {
        "colab": {
          "base_uri": "https://localhost:8080/",
          "height": 524
        },
        "id": "p4KPeqxz_Tpv",
        "outputId": "8f97b32d-a67f-4eba-c132-e26d40ec5d81"
      },
      "outputs": [
        {
          "output_type": "display_data",
          "data": {
            "text/plain": [
              "<Figure size 1000x500 with 1 Axes>"
            ],
            "image/png": "[encoded data removed]"
          },
          "metadata": {}
        },
        {
          "output_type": "stream",
          "name": "stdout",
          "text": [
            "The histogram of 'symmetry_mean' in the breast cancer dataset suggests that most cases have a moderate level of symmetry, with the majority of values concentrated around the mean. A slight right skew indicates there are some cases with higher symmetry, but these are less common.\n"
          ]
        }
      ],
      "source": [
        "# Create a histogram to visualize the distribution of 'symmetry_mean' feature\n",
        "plt.figure(figsize=(10, 5))\n",
        "plt.hist(cancer_df['symmetry_mean'], bins=20, edgecolor='black', alpha=0.7)\n",
        "plt.title(\"Histogram of symmetry_mean\")\n",
        "plt.xlabel(\"symmetry_mean\")\n",
        "plt.ylabel(\"Frequency\")\n",
        "plt.show()\n",
        "\n",
        "print(\"The histogram of 'symmetry_mean' in the breast cancer dataset suggests that most cases have a moderate level of symmetry, with the majority of values concentrated around the mean. A slight right skew indicates there are some cases with higher symmetry, but these are less common.\")"
      ]
    },
    {
      "cell_type": "code",
      "execution_count": null,
      "metadata": {
        "colab": {
          "base_uri": "https://localhost:8080/",
          "height": 611
        },
        "id": "joZR_yuV-t44",
        "outputId": "86aed763-4d0e-4720-cdb4-e760984ae6f1"
      },
      "outputs": [
        {
          "output_type": "stream",
          "name": "stderr",
          "text": [
            "<ipython-input-66-1b4aefb8ce28>:6: FutureWarning: \n",
            "\n",
            "Passing `palette` without assigning `hue` is deprecated and will be removed in v0.14.0. Assign the `x` variable to `hue` and set `legend=False` for the same effect.\n",
            "\n",
            "  sns.boxplot(x=cancer_df['diagnosis'], y=cancer_df['radius_mean'], palette=colors)\n"
          ]
        },
        {
          "output_type": "display_data",
          "data": {
            "text/plain": [
              "<Figure size 1000x500 with 1 Axes>"
            ],
            "image/png": "[encoded data removed]"
          },
          "metadata": {}
        },
        {
          "output_type": "stream",
          "name": "stdout",
          "text": [
            "The box plot shows that malignant tumors (M) tend to have a higher average radius mean compared to benign tumors (B), as indicated by the higher median and larger spread of the green box (Malignant). There are also outliers present in both categories.\n"
          ]
        }
      ],
      "source": [
        "# Define colors for the categories in the 'diagnosis' column\n",
        "colors = {\"M\": \"green\", \"B\": \"red\"}\n",
        "\n",
        "# Create a box plot to compare 'radius_mean' across the diagnosis categories\n",
        "plt.figure(figsize=(10, 5))\n",
        "sns.boxplot(x=cancer_df['diagnosis'], y=cancer_df['radius_mean'], palette=colors)\n",
        "plt.xlabel(\"diagnosis\")\n",
        "plt.ylabel(\"radius_mean\")\n",
        "plt.title(\"Box plot of radius_mean by diagnosis\")\n",
        "plt.show()\n",
        "\n",
        "print(\"The box plot shows that malignant tumors (M) tend to have a higher average radius mean compared to benign tumors (B), as indicated by the higher median and larger spread of the green box (Malignant). There are also outliers present in both categories.\")"
      ]
    },
    {
      "cell_type": "code",
      "execution_count": null,
      "metadata": {
        "colab": {
          "base_uri": "https://localhost:8080/",
          "height": 611
        },
        "id": "0gXHggZn-t45",
        "outputId": "79eb8b1d-5b31-4d6c-a38b-4135e1edd312"
      },
      "outputs": [
        {
          "output_type": "stream",
          "name": "stderr",
          "text": [
            "<ipython-input-67-9ebb1ff812b1>:3: FutureWarning: \n",
            "\n",
            "Passing `palette` without assigning `hue` is deprecated and will be removed in v0.14.0. Assign the `x` variable to `hue` and set `legend=False` for the same effect.\n",
            "\n",
            "  sns.boxplot(x=cancer_df['diagnosis'], y=cancer_df['texture_mean'], palette=colors)\n"
          ]
        },
        {
          "output_type": "display_data",
          "data": {
            "text/plain": [
              "<Figure size 1000x500 with 1 Axes>"
            ],
            "image/png": "[encoded data removed]"
          },
          "metadata": {}
        },
        {
          "output_type": "stream",
          "name": "stdout",
          "text": [
            "The box plot suggests a greater 'texture_mean' for malignant cases (M) over benign (B), with both categories having variability and several outliers.\n"
          ]
        }
      ],
      "source": [
        "# Create a box plot to compare 'texture_mean' across the diagnosis categories\n",
        "plt.figure(figsize=(10, 5))\n",
        "sns.boxplot(x=cancer_df['diagnosis'], y=cancer_df['texture_mean'], palette=colors)\n",
        "plt.xlabel(\"diagnosis\")\n",
        "plt.ylabel(\"texture_mean\")\n",
        "plt.title(\"Box plot of texture_mean by diagnosis\")\n",
        "plt.show()\n",
        "\n",
        "print(\"The box plot suggests a greater 'texture_mean' for malignant cases (M) over benign (B), with both categories having variability and several outliers.\")"
      ]
    },
    {
      "cell_type": "markdown",
      "metadata": {
        "id": "p3iyOASB-t45"
      },
      "source": [
        "## 2. **Logistic Regression Model Development**\n",
        "- Develop a logistic regression model to predict whether cancer is malignant or benign.\n",
        "- Preprocess the data as necessary (handling missing values, encoding categorical variables, etc.).\n",
        "- Explain the steps you took in preparing the data and developing the model.\n",
        "- You might need to encode the values for your prediction."
      ]
    },
    {
      "cell_type": "code",
      "execution_count": null,
      "metadata": {
        "colab": {
          "base_uri": "https://localhost:8080/"
        },
        "id": "hbPsqT9i-t46",
        "outputId": "9e17c895-2490-4436-b645-143163be4b3b"
      },
      "outputs": [
        {
          "output_type": "execute_result",
          "data": {
            "text/plain": [
              "diagnosis                  0\n",
              "radius_mean                0\n",
              "texture_mean               0\n",
              "perimeter_mean             0\n",
              "area_mean                  0\n",
              "smoothness_mean            0\n",
              "compactness_mean           0\n",
              "concavity_mean             0\n",
              "concave_points_mean        0\n",
              "symmetry_mean              0\n",
              "fractal_dimension_mean     0\n",
              "radius_se                  0\n",
              "texture_se                 0\n",
              "perimeter_se               0\n",
              "area_se                    0\n",
              "smoothness_se              0\n",
              "compactness_se             0\n",
              "concavity_se               0\n",
              "concave_points_se          0\n",
              "symmetry_se                0\n",
              "fractal_dimension_se       0\n",
              "radius_worst               0\n",
              "texture_worst              0\n",
              "perimeter_worst            0\n",
              "area_worst                 0\n",
              "smoothness_worst           0\n",
              "compactness_worst          0\n",
              "concavity_worst            0\n",
              "concave_points_worst       0\n",
              "symmetry_worst             0\n",
              "fractal_dimension_worst    0\n",
              "dtype: int64"
            ]
          },
          "metadata": {},
          "execution_count": 68
        }
      ],
      "source": [
        "# Check for missing values\n",
        "missing_values = cancer_df.isnull().sum()\n",
        "missing_values"
      ]
    },
    {
      "cell_type": "code",
      "execution_count": null,
      "metadata": {
        "colab": {
          "base_uri": "https://localhost:8080/",
          "height": 255
        },
        "id": "l6TUg1kh-t46",
        "outputId": "72fe584a-d576-4528-c083-1fb77d1a051e"
      },
      "outputs": [
        {
          "output_type": "execute_result",
          "data": {
            "text/plain": [
              "   diagnosis  radius_mean  texture_mean  perimeter_mean  area_mean  \\\n",
              "0          0        17.99         10.38          122.80     1001.0   \n",
              "1          0        20.57         17.77          132.90     1326.0   \n",
              "2          0        19.69         21.25          130.00     1203.0   \n",
              "3          0        11.42         20.38           77.58      386.1   \n",
              "4          0        20.29         14.34          135.10     1297.0   \n",
              "\n",
              "   smoothness_mean  compactness_mean  concavity_mean  concave_points_mean  \\\n",
              "0          0.11840           0.27760          0.3001              0.14710   \n",
              "1          0.08474           0.07864          0.0869              0.07017   \n",
              "2          0.10960           0.15990          0.1974              0.12790   \n",
              "3          0.14250           0.28390          0.2414              0.10520   \n",
              "4          0.10030           0.13280          0.1980              0.10430   \n",
              "\n",
              "   symmetry_mean  ...  radius_worst  texture_worst  perimeter_worst  \\\n",
              "0         0.2419  ...         25.38          17.33           184.60   \n",
              "1         0.1812  ...         24.99          23.41           158.80   \n",
              "2         0.2069  ...         23.57          25.53           152.50   \n",
              "3         0.2597  ...         14.91          26.50            98.87   \n",
              "4         0.1809  ...         22.54          16.67           152.20   \n",
              "\n",
              "   area_worst  smoothness_worst  compactness_worst  concavity_worst  \\\n",
              "0      2019.0            0.1622             0.6656           0.7119   \n",
              "1      1956.0            0.1238             0.1866           0.2416   \n",
              "2      1709.0            0.1444             0.4245           0.4504   \n",
              "3       567.7            0.2098             0.8663           0.6869   \n",
              "4      1575.0            0.1374             0.2050           0.4000   \n",
              "\n",
              "   concave_points_worst  symmetry_worst  fractal_dimension_worst  \n",
              "0                0.2654          0.4601                  0.11890  \n",
              "1                0.1860          0.2750                  0.08902  \n",
              "2                0.2430          0.3613                  0.08758  \n",
              "3                0.2575          0.6638                  0.17300  \n",
              "4                0.1625          0.2364                  0.07678  \n",
              "\n",
              "[5 rows x 31 columns]"
            ],
            "text/html": [
              "\n",
              "  <div id=\"df-31bf6252-a870-4822-b44d-c9b4b67e9d97\" class=\"colab-df-container\">\n",
              "    <div>\n",
              "<style scoped>\n",
              "    .dataframe tbody tr th:only-of-type {\n",
              "        vertical-align: middle;\n",
              "    }\n",
              "\n",
              "    .dataframe tbody tr th {\n",
              "        vertical-align: top;\n",
              "    }\n",
              "\n",
              "    .dataframe thead th {\n",
              "        text-align: right;\n",
              "    }\n",
              "</style>\n",
              "<table border=\"1\" class=\"dataframe\">\n",
              "  <thead>\n",
              "    <tr style=\"text-align: right;\">\n",
              "      <th></th>\n",
              "      <th>diagnosis</th>\n",
              "      <th>radius_mean</th>\n",
              "      <th>texture_mean</th>\n",
              "      <th>perimeter_mean</th>\n",
              "      <th>area_mean</th>\n",
              "      <th>smoothness_mean</th>\n",
              "      <th>compactness_mean</th>\n",
              "      <th>concavity_mean</th>\n",
              "      <th>concave_points_mean</th>\n",
              "      <th>symmetry_mean</th>\n",
              "      <th>...</th>\n",
              "      <th>radius_worst</th>\n",
              "      <th>texture_worst</th>\n",
              "      <th>perimeter_worst</th>\n",
              "      <th>area_worst</th>\n",
              "      <th>smoothness_worst</th>\n",
              "      <th>compactness_worst</th>\n",
              "      <th>concavity_worst</th>\n",
              "      <th>concave_points_worst</th>\n",
              "      <th>symmetry_worst</th>\n",
              "      <th>fractal_dimension_worst</th>\n",
              "    </tr>\n",
              "  </thead>\n",
              "  <tbody>\n",
              "    <tr>\n",
              "      <th>0</th>\n",
              "      <td>0</td>\n",
              "      <td>17.99</td>\n",
              "      <td>10.38</td>\n",
              "      <td>122.80</td>\n",
              "      <td>1001.0</td>\n",
              "      <td>0.11840</td>\n",
              "      <td>0.27760</td>\n",
              "      <td>0.3001</td>\n",
              "      <td>0.14710</td>\n",
              "      <td>0.2419</td>\n",
              "      <td>...</td>\n",
              "      <td>25.38</td>\n",
              "      <td>17.33</td>\n",
              "      <td>184.60</td>\n",
              "      <td>2019.0</td>\n",
              "      <td>0.1622</td>\n",
              "      <td>0.6656</td>\n",
              "      <td>0.7119</td>\n",
              "      <td>0.2654</td>\n",
              "      <td>0.4601</td>\n",
              "      <td>0.11890</td>\n",
              "    </tr>\n",
              "    <tr>\n",
              "      <th>1</th>\n",
              "      <td>0</td>\n",
              "      <td>20.57</td>\n",
              "      <td>17.77</td>\n",
              "      <td>132.90</td>\n",
              "      <td>1326.0</td>\n",
              "      <td>0.08474</td>\n",
              "      <td>0.07864</td>\n",
              "      <td>0.0869</td>\n",
              "      <td>0.07017</td>\n",
              "      <td>0.1812</td>\n",
              "      <td>...</td>\n",
              "      <td>24.99</td>\n",
              "      <td>23.41</td>\n",
              "      <td>158.80</td>\n",
              "      <td>1956.0</td>\n",
              "      <td>0.1238</td>\n",
              "      <td>0.1866</td>\n",
              "      <td>0.2416</td>\n",
              "      <td>0.1860</td>\n",
              "      <td>0.2750</td>\n",
              "      <td>0.08902</td>\n",
              "    </tr>\n",
              "    <tr>\n",
              "      <th>2</th>\n",
              "      <td>0</td>\n",
              "      <td>19.69</td>\n",
              "      <td>21.25</td>\n",
              "      <td>130.00</td>\n",
              "      <td>1203.0</td>\n",
              "      <td>0.10960</td>\n",
              "      <td>0.15990</td>\n",
              "      <td>0.1974</td>\n",
              "      <td>0.12790</td>\n",
              "      <td>0.2069</td>\n",
              "      <td>...</td>\n",
              "      <td>23.57</td>\n",
              "      <td>25.53</td>\n",
              "      <td>152.50</td>\n",
              "      <td>1709.0</td>\n",
              "      <td>0.1444</td>\n",
              "      <td>0.4245</td>\n",
              "      <td>0.4504</td>\n",
              "      <td>0.2430</td>\n",
              "      <td>0.3613</td>\n",
              "      <td>0.08758</td>\n",
              "    </tr>\n",
              "    <tr>\n",
              "      <th>3</th>\n",
              "      <td>0</td>\n",
              "      <td>11.42</td>\n",
              "      <td>20.38</td>\n",
              "      <td>77.58</td>\n",
              "      <td>386.1</td>\n",
              "      <td>0.14250</td>\n",
              "      <td>0.28390</td>\n",
              "      <td>0.2414</td>\n",
              "      <td>0.10520</td>\n",
              "      <td>0.2597</td>\n",
              "      <td>...</td>\n",
              "      <td>14.91</td>\n",
              "      <td>26.50</td>\n",
              "      <td>98.87</td>\n",
              "      <td>567.7</td>\n",
              "      <td>0.2098</td>\n",
              "      <td>0.8663</td>\n",
              "      <td>0.6869</td>\n",
              "      <td>0.2575</td>\n",
              "      <td>0.6638</td>\n",
              "      <td>0.17300</td>\n",
              "    </tr>\n",
              "    <tr>\n",
              "      <th>4</th>\n",
              "      <td>0</td>\n",
              "      <td>20.29</td>\n",
              "      <td>14.34</td>\n",
              "      <td>135.10</td>\n",
              "      <td>1297.0</td>\n",
              "      <td>0.10030</td>\n",
              "      <td>0.13280</td>\n",
              "      <td>0.1980</td>\n",
              "      <td>0.10430</td>\n",
              "      <td>0.1809</td>\n",
              "      <td>...</td>\n",
              "      <td>22.54</td>\n",
              "      <td>16.67</td>\n",
              "      <td>152.20</td>\n",
              "      <td>1575.0</td>\n",
              "      <td>0.1374</td>\n",
              "      <td>0.2050</td>\n",
              "      <td>0.4000</td>\n",
              "      <td>0.1625</td>\n",
              "      <td>0.2364</td>\n",
              "      <td>0.07678</td>\n",
              "    </tr>\n",
              "  </tbody>\n",
              "</table>\n",
              "<p>5 rows × 31 columns</p>\n",
              "</div>\n",
              "    <div class=\"colab-df-buttons\">\n",
              "\n",
              "  <div class=\"colab-df-container\">\n",
              "    <button class=\"colab-df-convert\" onclick=\"convertToInteractive('df-31bf6252-a870-4822-b44d-c9b4b67e9d97')\"\n",
              "            title=\"Convert this dataframe to an interactive table.\"\n",
              "            style=\"display:none;\">\n",
              "\n",
              "  <svg xmlns=\"http://www.w3.org/2000/svg\" height=\"24px\" viewBox=\"0 -960 960 960\">\n",
              "    <path d=\"M120-120v-720h720v720H120Zm60-500h600v-160H180v160Zm220 220h160v-160H400v160Zm0 220h160v-160H400v160ZM180-400h160v-160H180v160Zm440 0h160v-160H620v160ZM180-180h160v-160H180v160Zm440 0h160v-160H620v160Z\"/>\n",
              "  </svg>\n",
              "    </button>\n",
              "\n",
              "  <style>\n",
              "    .colab-df-container {\n",
              "      display:flex;\n",
              "      gap: 12px;\n",
              "    }\n",
              "\n",
              "    .colab-df-convert {\n",
              "      background-color: #E8F0FE;\n",
              "      border: none;\n",
              "      border-radius: 50%;\n",
              "      cursor: pointer;\n",
              "      display: none;\n",
              "      fill: #1967D2;\n",
              "      height: 32px;\n",
              "      padding: 0 0 0 0;\n",
              "      width: 32px;\n",
              "    }\n",
              "\n",
              "    .colab-df-convert:hover {\n",
              "      background-color: #E2EBFA;\n",
              "      box-shadow: 0px 1px 2px rgba(60, 64, 67, 0.3), 0px 1px 3px 1px rgba(60, 64, 67, 0.15);\n",
              "      fill: #174EA6;\n",
              "    }\n",
              "\n",
              "    .colab-df-buttons div {\n",
              "      margin-bottom: 4px;\n",
              "    }\n",
              "\n",
              "    [theme=dark] .colab-df-convert {\n",
              "      background-color: #3B4455;\n",
              "      fill: #D2E3FC;\n",
              "    }\n",
              "\n",
              "    [theme=dark] .colab-df-convert:hover {\n",
              "      background-color: #434B5C;\n",
              "      box-shadow: 0px 1px 3px 1px rgba(0, 0, 0, 0.15);\n",
              "      filter: drop-shadow(0px 1px 2px rgba(0, 0, 0, 0.3));\n",
              "      fill: #FFFFFF;\n",
              "    }\n",
              "  </style>\n",
              "\n",
              "    <script>\n",
              "      const buttonEl =\n",
              "        document.querySelector('#df-31bf6252-a870-4822-b44d-c9b4b67e9d97 button.colab-df-convert');\n",
              "      buttonEl.style.display =\n",
              "        google.colab.kernel.accessAllowed ? 'block' : 'none';\n",
              "\n",
              "      async function convertToInteractive(key) {\n",
              "        const element = document.querySelector('#df-31bf6252-a870-4822-b44d-c9b4b67e9d97');\n",
              "        const dataTable =\n",
              "          await google.colab.kernel.invokeFunction('convertToInteractive',\n",
              "                                                    [key], {});\n",
              "        if (!dataTable) return;\n",
              "\n",
              "        const docLinkHtml = 'Like what you see? Visit the ' +\n",
              "          '<a target=\"_blank\" href=https://colab.research.google.com/notebooks/data_table.ipynb>data table notebook</a>'\n",
              "          + ' to learn more about interactive tables.';\n",
              "        element.innerHTML = '';\n",
              "        dataTable['output_type'] = 'display_data';\n",
              "        await google.colab.output.renderOutput(dataTable, element);\n",
              "        const docLink = document.createElement('div');\n",
              "        docLink.innerHTML = docLinkHtml;\n",
              "        element.appendChild(docLink);\n",
              "      }\n",
              "    </script>\n",
              "  </div>\n",
              "\n",
              "\n",
              "<div id=\"df-ae237706-4f91-45e6-a907-5b032fb53d77\">\n",
              "  <button class=\"colab-df-quickchart\" onclick=\"quickchart('df-ae237706-4f91-45e6-a907-5b032fb53d77')\"\n",
              "            title=\"Suggest charts\"\n",
              "            style=\"display:none;\">\n",
              "\n",
              "<svg xmlns=\"http://www.w3.org/2000/svg\" height=\"24px\"viewBox=\"0 0 24 24\"\n",
              "     width=\"24px\">\n",
              "    <g>\n",
              "        <path d=\"M19 3H5c-1.1 0-2 .9-2 2v14c0 1.1.9 2 2 2h14c1.1 0 2-.9 2-2V5c0-1.1-.9-2-2-2zM9 17H7v-7h2v7zm4 0h-2V7h2v10zm4 0h-2v-4h2v4z\"/>\n",
              "    </g>\n",
              "</svg>\n",
              "  </button>\n",
              "\n",
              "<style>\n",
              "  .colab-df-quickchart {\n",
              "      --bg-color: #E8F0FE;\n",
              "      --fill-color: #1967D2;\n",
              "      --hover-bg-color: #E2EBFA;\n",
              "      --hover-fill-color: #174EA6;\n",
              "      --disabled-fill-color: #AAA;\n",
              "      --disabled-bg-color: #DDD;\n",
              "  }\n",
              "\n",
              "  [theme=dark] .colab-df-quickchart {\n",
              "      --bg-color: #3B4455;\n",
              "      --fill-color: #D2E3FC;\n",
              "      --hover-bg-color: #434B5C;\n",
              "      --hover-fill-color: #FFFFFF;\n",
              "      --disabled-bg-color: #3B4455;\n",
              "      --disabled-fill-color: #666;\n",
              "  }\n",
              "\n",
              "  .colab-df-quickchart {\n",
              "    background-color: var(--bg-color);\n",
              "    border: none;\n",
              "    border-radius: 50%;\n",
              "    cursor: pointer;\n",
              "    display: none;\n",
              "    fill: var(--fill-color);\n",
              "    height: 32px;\n",
              "    padding: 0;\n",
              "    width: 32px;\n",
              "  }\n",
              "\n",
              "  .colab-df-quickchart:hover {\n",
              "    background-color: var(--hover-bg-color);\n",
              "    box-shadow: 0 1px 2px rgba(60, 64, 67, 0.3), 0 1px 3px 1px rgba(60, 64, 67, 0.15);\n",
              "    fill: var(--button-hover-fill-color);\n",
              "  }\n",
              "\n",
              "  .colab-df-quickchart-complete:disabled,\n",
              "  .colab-df-quickchart-complete:disabled:hover {\n",
              "    background-color: var(--disabled-bg-color);\n",
              "    fill: var(--disabled-fill-color);\n",
              "    box-shadow: none;\n",
              "  }\n",
              "\n",
              "  .colab-df-spinner {\n",
              "    border: 2px solid var(--fill-color);\n",
              "    border-color: transparent;\n",
              "    border-bottom-color: var(--fill-color);\n",
              "    animation:\n",
              "      spin 1s steps(1) infinite;\n",
              "  }\n",
              "\n",
              "  @keyframes spin {\n",
              "    0% {\n",
              "      border-color: transparent;\n",
              "      border-bottom-color: var(--fill-color);\n",
              "      border-left-color: var(--fill-color);\n",
              "    }\n",
              "    20% {\n",
              "      border-color: transparent;\n",
              "      border-left-color: var(--fill-color);\n",
              "      border-top-color: var(--fill-color);\n",
              "    }\n",
              "    30% {\n",
              "      border-color: transparent;\n",
              "      border-left-color: var(--fill-color);\n",
              "      border-top-color: var(--fill-color);\n",
              "      border-right-color: var(--fill-color);\n",
              "    }\n",
              "    40% {\n",
              "      border-color: transparent;\n",
              "      border-right-color: var(--fill-color);\n",
              "      border-top-color: var(--fill-color);\n",
              "    }\n",
              "    60% {\n",
              "      border-color: transparent;\n",
              "      border-right-color: var(--fill-color);\n",
              "    }\n",
              "    80% {\n",
              "      border-color: transparent;\n",
              "      border-right-color: var(--fill-color);\n",
              "      border-bottom-color: var(--fill-color);\n",
              "    }\n",
              "    90% {\n",
              "      border-color: transparent;\n",
              "      border-bottom-color: var(--fill-color);\n",
              "    }\n",
              "  }\n",
              "</style>\n",
              "\n",
              "  <script>\n",
              "    async function quickchart(key) {\n",
              "      const quickchartButtonEl =\n",
              "        document.querySelector('#' + key + ' button');\n",
              "      quickchartButtonEl.disabled = true;  // To prevent multiple clicks.\n",
              "      quickchartButtonEl.classList.add('colab-df-spinner');\n",
              "      try {\n",
              "        const charts = await google.colab.kernel.invokeFunction(\n",
              "            'suggestCharts', [key], {});\n",
              "      } catch (error) {\n",
              "        console.error('Error during call to suggestCharts:', error);\n",
              "      }\n",
              "      quickchartButtonEl.classList.remove('colab-df-spinner');\n",
              "      quickchartButtonEl.classList.add('colab-df-quickchart-complete');\n",
              "    }\n",
              "    (() => {\n",
              "      let quickchartButtonEl =\n",
              "        document.querySelector('#df-ae237706-4f91-45e6-a907-5b032fb53d77 button');\n",
              "      quickchartButtonEl.style.display =\n",
              "        google.colab.kernel.accessAllowed ? 'block' : 'none';\n",
              "    })();\n",
              "  </script>\n",
              "</div>\n",
              "    </div>\n",
              "  </div>\n"
            ],
            "application/vnd.google.colaboratory.intrinsic+json": {
              "type": "dataframe",
              "variable_name": "cancer_df"
            }
          },
          "metadata": {},
          "execution_count": 69
        }
      ],
      "source": [
        "# Encode 'diagnosis' column into a binary variable\n",
        "if set(cancer_df['diagnosis'].unique()) == {'M', 'B'}:\n",
        "    cancer_df['diagnosis'] = cancer_df['diagnosis'].map({'M': 0, 'B': 1})\n",
        "\n",
        "cancer_df.head()"
      ]
    },
    {
      "cell_type": "code",
      "execution_count": null,
      "metadata": {
        "colab": {
          "base_uri": "https://localhost:8080/",
          "height": 1000
        },
        "id": "EngW_WDe-t47",
        "outputId": "4757dd7f-a8bf-4d58-f296-8b3ea4e47109"
      },
      "outputs": [
        {
          "output_type": "stream",
          "name": "stderr",
          "text": [
            "/usr/local/lib/python3.10/dist-packages/statsmodels/genmod/families/links.py:198: RuntimeWarning: overflow encountered in exp\n",
            "  t = np.exp(-z)\n",
            "/usr/local/lib/python3.10/dist-packages/statsmodels/genmod/families/family.py:1056: RuntimeWarning: divide by zero encountered in log\n",
            "  special.gammaln(n - y + 1) + y * np.log(mu / (1 - mu + 1e-20)) +\n",
            "/usr/local/lib/python3.10/dist-packages/statsmodels/genmod/families/family.py:1056: RuntimeWarning: invalid value encountered in multiply\n",
            "  special.gammaln(n - y + 1) + y * np.log(mu / (1 - mu + 1e-20)) +\n"
          ]
        },
        {
          "output_type": "execute_result",
          "data": {
            "text/plain": [
              "<class 'statsmodels.iolib.summary.Summary'>\n",
              "\"\"\"\n",
              "                 Generalized Linear Model Regression Results                  \n",
              "==============================================================================\n",
              "Dep. Variable:              diagnosis   No. Observations:                  569\n",
              "Model:                            GLM   Df Residuals:                      538\n",
              "Model Family:                Binomial   Df Model:                           30\n",
              "Link Function:                  Logit   Scale:                          1.0000\n",
              "Method:                          IRLS   Log-Likelihood:                    nan\n",
              "Date:                Mon, 13 May 2024   Deviance:                       921.03\n",
              "Time:                        20:40:40   Pearson chi2:                 4.50e+16\n",
              "No. Iterations:                    33   Pseudo R-squ. (CS):                nan\n",
              "Covariance Type:            nonrobust                                         \n",
              "===========================================================================================\n",
              "                              coef    std err          z      P>|z|      [0.025      0.975]\n",
              "-------------------------------------------------------------------------------------------\n",
              "const                    2.056e+16   1.22e+08   1.69e+08      0.000    2.06e+16    2.06e+16\n",
              "radius_mean              4.029e+15   4.93e+07   8.17e+07      0.000    4.03e+15    4.03e+15\n",
              "texture_mean            -9.764e+12   2.26e+06  -4.33e+06      0.000   -9.76e+12   -9.76e+12\n",
              "perimeter_mean           -4.89e+14   7.13e+06  -6.86e+07      0.000   -4.89e+14   -4.89e+14\n",
              "area_mean               -7.809e+12   1.49e+05  -5.23e+07      0.000   -7.81e+12   -7.81e+12\n",
              "smoothness_mean         -3.359e+16   5.73e+08  -5.86e+07      0.000   -3.36e+16   -3.36e+16\n",
              "compactness_mean         3.699e+16   3.79e+08   9.76e+07      0.000     3.7e+16     3.7e+16\n",
              "concavity_mean           7.826e+15   2.97e+08   2.63e+07      0.000    7.83e+15    7.83e+15\n",
              "concave_points_mean     -1.689e+16   5.62e+08     -3e+07      0.000   -1.69e+16   -1.69e+16\n",
              "symmetry_mean            7.224e+15   2.11e+08   3.42e+07      0.000    7.22e+15    7.22e+15\n",
              "fractal_dimension_mean  -6.308e+16   1.58e+09  -3.98e+07      0.000   -6.31e+16   -6.31e+16\n",
              "radius_se               -1.068e+16   8.82e+07  -1.21e+08      0.000   -1.07e+16   -1.07e+16\n",
              "texture_se               3.419e+14   1.05e+07   3.27e+07      0.000    3.42e+14    3.42e+14\n",
              "perimeter_se             1.172e+15   1.17e+07      1e+08      0.000    1.17e+15    1.17e+15\n",
              "area_se                 -2.141e+12   3.97e+05  -5.39e+06      0.000   -2.14e+12   -2.14e+12\n",
              "smoothness_se            6.019e+16   1.88e+09    3.2e+07      0.000    6.02e+16    6.02e+16\n",
              "compactness_se          -3.617e+16   6.16e+08  -5.87e+07      0.000   -3.62e+16   -3.62e+16\n",
              "concavity_se             2.808e+16    3.7e+08    7.6e+07      0.000    2.81e+16    2.81e+16\n",
              "concave_points_se       -2.014e+17   1.55e+09   -1.3e+08      0.000   -2.01e+17   -2.01e+17\n",
              "symmetry_se              2.634e+16   7.75e+08    3.4e+07      0.000    2.63e+16    2.63e+16\n",
              "fractal_dimension_se     3.012e+17   3.32e+09   9.08e+07      0.000    3.01e+17    3.01e+17\n",
              "radius_worst            -9.245e+14   1.65e+07  -5.61e+07      0.000   -9.25e+14   -9.25e+14\n",
              "texture_worst           -1.221e+14   1.97e+06  -6.19e+07      0.000   -1.22e+14   -1.22e+14\n",
              "perimeter_worst         -1.011e+14   1.69e+06     -6e+07      0.000   -1.01e+14   -1.01e+14\n",
              "area_worst               1.126e+13   9.08e+04   1.24e+08      0.000    1.13e+13    1.13e+13\n",
              "smoothness_worst        -5.403e+15   4.08e+08  -1.33e+07      0.000    -5.4e+15    -5.4e+15\n",
              "compactness_worst        3.441e+15   1.09e+08   3.16e+07      0.000    3.44e+15    3.44e+15\n",
              "concavity_worst         -8.144e+15   7.63e+07  -1.07e+08      0.000   -8.14e+15   -8.14e+15\n",
              "concave_points_worst     5.044e+15    2.6e+08   1.94e+07      0.000    5.04e+15    5.04e+15\n",
              "symmetry_worst          -7.016e+15    1.4e+08     -5e+07      0.000   -7.02e+15   -7.02e+15\n",
              "fractal_dimension_worst -9.479e+15   6.77e+08   -1.4e+07      0.000   -9.48e+15   -9.48e+15\n",
              "===========================================================================================\n",
              "\"\"\""
            ],
            "text/html": [
              "<table class=\"simpletable\">\n",
              "<caption>Generalized Linear Model Regression Results</caption>\n",
              "<tr>\n",
              "  <th>Dep. Variable:</th>       <td>diagnosis</td>    <th>  No. Observations:  </th>  <td>   569</td> \n",
              "</tr>\n",
              "<tr>\n",
              "  <th>Model:</th>                  <td>GLM</td>       <th>  Df Residuals:      </th>  <td>   538</td> \n",
              "</tr>\n",
              "<tr>\n",
              "  <th>Model Family:</th>        <td>Binomial</td>     <th>  Df Model:          </th>  <td>    30</td> \n",
              "</tr>\n",
              "<tr>\n",
              "  <th>Link Function:</th>         <td>Logit</td>      <th>  Scale:             </th> <td>  1.0000</td>\n",
              "</tr>\n",
              "<tr>\n",
              "  <th>Method:</th>                <td>IRLS</td>       <th>  Log-Likelihood:    </th> <td>     nan</td>\n",
              "</tr>\n",
              "<tr>\n",
              "  <th>Date:</th>            <td>Mon, 13 May 2024</td> <th>  Deviance:          </th> <td>  921.03</td>\n",
              "</tr>\n",
              "<tr>\n",
              "  <th>Time:</th>                <td>20:40:40</td>     <th>  Pearson chi2:      </th> <td>4.50e+16</td>\n",
              "</tr>\n",
              "<tr>\n",
              "  <th>No. Iterations:</th>         <td>33</td>        <th>  Pseudo R-squ. (CS):</th>  <td>   nan</td> \n",
              "</tr>\n",
              "<tr>\n",
              "  <th>Covariance Type:</th>     <td>nonrobust</td>    <th>                     </th>     <td> </td>   \n",
              "</tr>\n",
              "</table>\n",
              "<table class=\"simpletable\">\n",
              "<tr>\n",
              "             <td></td>                <th>coef</th>     <th>std err</th>      <th>z</th>      <th>P>|z|</th>  <th>[0.025</th>    <th>0.975]</th>  \n",
              "</tr>\n",
              "<tr>\n",
              "  <th>const</th>                   <td> 2.056e+16</td> <td> 1.22e+08</td> <td> 1.69e+08</td> <td> 0.000</td> <td> 2.06e+16</td> <td> 2.06e+16</td>\n",
              "</tr>\n",
              "<tr>\n",
              "  <th>radius_mean</th>             <td> 4.029e+15</td> <td> 4.93e+07</td> <td> 8.17e+07</td> <td> 0.000</td> <td> 4.03e+15</td> <td> 4.03e+15</td>\n",
              "</tr>\n",
              "<tr>\n",
              "  <th>texture_mean</th>            <td>-9.764e+12</td> <td> 2.26e+06</td> <td>-4.33e+06</td> <td> 0.000</td> <td>-9.76e+12</td> <td>-9.76e+12</td>\n",
              "</tr>\n",
              "<tr>\n",
              "  <th>perimeter_mean</th>          <td> -4.89e+14</td> <td> 7.13e+06</td> <td>-6.86e+07</td> <td> 0.000</td> <td>-4.89e+14</td> <td>-4.89e+14</td>\n",
              "</tr>\n",
              "<tr>\n",
              "  <th>area_mean</th>               <td>-7.809e+12</td> <td> 1.49e+05</td> <td>-5.23e+07</td> <td> 0.000</td> <td>-7.81e+12</td> <td>-7.81e+12</td>\n",
              "</tr>\n",
              "<tr>\n",
              "  <th>smoothness_mean</th>         <td>-3.359e+16</td> <td> 5.73e+08</td> <td>-5.86e+07</td> <td> 0.000</td> <td>-3.36e+16</td> <td>-3.36e+16</td>\n",
              "</tr>\n",
              "<tr>\n",
              "  <th>compactness_mean</th>        <td> 3.699e+16</td> <td> 3.79e+08</td> <td> 9.76e+07</td> <td> 0.000</td> <td>  3.7e+16</td> <td>  3.7e+16</td>\n",
              "</tr>\n",
              "<tr>\n",
              "  <th>concavity_mean</th>          <td> 7.826e+15</td> <td> 2.97e+08</td> <td> 2.63e+07</td> <td> 0.000</td> <td> 7.83e+15</td> <td> 7.83e+15</td>\n",
              "</tr>\n",
              "<tr>\n",
              "  <th>concave_points_mean</th>     <td>-1.689e+16</td> <td> 5.62e+08</td> <td>   -3e+07</td> <td> 0.000</td> <td>-1.69e+16</td> <td>-1.69e+16</td>\n",
              "</tr>\n",
              "<tr>\n",
              "  <th>symmetry_mean</th>           <td> 7.224e+15</td> <td> 2.11e+08</td> <td> 3.42e+07</td> <td> 0.000</td> <td> 7.22e+15</td> <td> 7.22e+15</td>\n",
              "</tr>\n",
              "<tr>\n",
              "  <th>fractal_dimension_mean</th>  <td>-6.308e+16</td> <td> 1.58e+09</td> <td>-3.98e+07</td> <td> 0.000</td> <td>-6.31e+16</td> <td>-6.31e+16</td>\n",
              "</tr>\n",
              "<tr>\n",
              "  <th>radius_se</th>               <td>-1.068e+16</td> <td> 8.82e+07</td> <td>-1.21e+08</td> <td> 0.000</td> <td>-1.07e+16</td> <td>-1.07e+16</td>\n",
              "</tr>\n",
              "<tr>\n",
              "  <th>texture_se</th>              <td> 3.419e+14</td> <td> 1.05e+07</td> <td> 3.27e+07</td> <td> 0.000</td> <td> 3.42e+14</td> <td> 3.42e+14</td>\n",
              "</tr>\n",
              "<tr>\n",
              "  <th>perimeter_se</th>            <td> 1.172e+15</td> <td> 1.17e+07</td> <td>    1e+08</td> <td> 0.000</td> <td> 1.17e+15</td> <td> 1.17e+15</td>\n",
              "</tr>\n",
              "<tr>\n",
              "  <th>area_se</th>                 <td>-2.141e+12</td> <td> 3.97e+05</td> <td>-5.39e+06</td> <td> 0.000</td> <td>-2.14e+12</td> <td>-2.14e+12</td>\n",
              "</tr>\n",
              "<tr>\n",
              "  <th>smoothness_se</th>           <td> 6.019e+16</td> <td> 1.88e+09</td> <td>  3.2e+07</td> <td> 0.000</td> <td> 6.02e+16</td> <td> 6.02e+16</td>\n",
              "</tr>\n",
              "<tr>\n",
              "  <th>compactness_se</th>          <td>-3.617e+16</td> <td> 6.16e+08</td> <td>-5.87e+07</td> <td> 0.000</td> <td>-3.62e+16</td> <td>-3.62e+16</td>\n",
              "</tr>\n",
              "<tr>\n",
              "  <th>concavity_se</th>            <td> 2.808e+16</td> <td>  3.7e+08</td> <td>  7.6e+07</td> <td> 0.000</td> <td> 2.81e+16</td> <td> 2.81e+16</td>\n",
              "</tr>\n",
              "<tr>\n",
              "  <th>concave_points_se</th>       <td>-2.014e+17</td> <td> 1.55e+09</td> <td> -1.3e+08</td> <td> 0.000</td> <td>-2.01e+17</td> <td>-2.01e+17</td>\n",
              "</tr>\n",
              "<tr>\n",
              "  <th>symmetry_se</th>             <td> 2.634e+16</td> <td> 7.75e+08</td> <td>  3.4e+07</td> <td> 0.000</td> <td> 2.63e+16</td> <td> 2.63e+16</td>\n",
              "</tr>\n",
              "<tr>\n",
              "  <th>fractal_dimension_se</th>    <td> 3.012e+17</td> <td> 3.32e+09</td> <td> 9.08e+07</td> <td> 0.000</td> <td> 3.01e+17</td> <td> 3.01e+17</td>\n",
              "</tr>\n",
              "<tr>\n",
              "  <th>radius_worst</th>            <td>-9.245e+14</td> <td> 1.65e+07</td> <td>-5.61e+07</td> <td> 0.000</td> <td>-9.25e+14</td> <td>-9.25e+14</td>\n",
              "</tr>\n",
              "<tr>\n",
              "  <th>texture_worst</th>           <td>-1.221e+14</td> <td> 1.97e+06</td> <td>-6.19e+07</td> <td> 0.000</td> <td>-1.22e+14</td> <td>-1.22e+14</td>\n",
              "</tr>\n",
              "<tr>\n",
              "  <th>perimeter_worst</th>         <td>-1.011e+14</td> <td> 1.69e+06</td> <td>   -6e+07</td> <td> 0.000</td> <td>-1.01e+14</td> <td>-1.01e+14</td>\n",
              "</tr>\n",
              "<tr>\n",
              "  <th>area_worst</th>              <td> 1.126e+13</td> <td> 9.08e+04</td> <td> 1.24e+08</td> <td> 0.000</td> <td> 1.13e+13</td> <td> 1.13e+13</td>\n",
              "</tr>\n",
              "<tr>\n",
              "  <th>smoothness_worst</th>        <td>-5.403e+15</td> <td> 4.08e+08</td> <td>-1.33e+07</td> <td> 0.000</td> <td> -5.4e+15</td> <td> -5.4e+15</td>\n",
              "</tr>\n",
              "<tr>\n",
              "  <th>compactness_worst</th>       <td> 3.441e+15</td> <td> 1.09e+08</td> <td> 3.16e+07</td> <td> 0.000</td> <td> 3.44e+15</td> <td> 3.44e+15</td>\n",
              "</tr>\n",
              "<tr>\n",
              "  <th>concavity_worst</th>         <td>-8.144e+15</td> <td> 7.63e+07</td> <td>-1.07e+08</td> <td> 0.000</td> <td>-8.14e+15</td> <td>-8.14e+15</td>\n",
              "</tr>\n",
              "<tr>\n",
              "  <th>concave_points_worst</th>    <td> 5.044e+15</td> <td>  2.6e+08</td> <td> 1.94e+07</td> <td> 0.000</td> <td> 5.04e+15</td> <td> 5.04e+15</td>\n",
              "</tr>\n",
              "<tr>\n",
              "  <th>symmetry_worst</th>          <td>-7.016e+15</td> <td>  1.4e+08</td> <td>   -5e+07</td> <td> 0.000</td> <td>-7.02e+15</td> <td>-7.02e+15</td>\n",
              "</tr>\n",
              "<tr>\n",
              "  <th>fractal_dimension_worst</th> <td>-9.479e+15</td> <td> 6.77e+08</td> <td> -1.4e+07</td> <td> 0.000</td> <td>-9.48e+15</td> <td>-9.48e+15</td>\n",
              "</tr>\n",
              "</table>"
            ],
            "text/latex": "\\begin{center}\n\\begin{tabular}{lclc}\n\\toprule\n\\textbf{Dep. Variable:}            &    diagnosis     & \\textbf{  No. Observations:  } &      569    \\\\\n\\textbf{Model:}                    &       GLM        & \\textbf{  Df Residuals:      } &      538    \\\\\n\\textbf{Model Family:}             &     Binomial     & \\textbf{  Df Model:          } &       30    \\\\\n\\textbf{Link Function:}            &      Logit       & \\textbf{  Scale:             } &    1.0000   \\\\\n\\textbf{Method:}                   &       IRLS       & \\textbf{  Log-Likelihood:    } &       nan   \\\\\n\\textbf{Date:}                     & Mon, 13 May 2024 & \\textbf{  Deviance:          } &    921.03   \\\\\n\\textbf{Time:}                     &     20:40:40     & \\textbf{  Pearson chi2:      } &  4.50e+16   \\\\\n\\textbf{No. Iterations:}           &        33        & \\textbf{  Pseudo R-squ. (CS):} &      nan    \\\\\n\\textbf{Covariance Type:}          &    nonrobust     & \\textbf{                     } &             \\\\\n\\bottomrule\n\\end{tabular}\n\\begin{tabular}{lcccccc}\n                                   & \\textbf{coef} & \\textbf{std err} & \\textbf{z} & \\textbf{P$> |$z$|$} & \\textbf{[0.025} & \\textbf{0.975]}  \\\\\n\\midrule\n\\textbf{const}                     &    2.056e+16  &     1.22e+08     &  1.69e+08  &         0.000        &     2.06e+16    &     2.06e+16     \\\\\n\\textbf{radius\\_mean}              &    4.029e+15  &     4.93e+07     &  8.17e+07  &         0.000        &     4.03e+15    &     4.03e+15     \\\\\n\\textbf{texture\\_mean}             &   -9.764e+12  &     2.26e+06     & -4.33e+06  &         0.000        &    -9.76e+12    &    -9.76e+12     \\\\\n\\textbf{perimeter\\_mean}           &    -4.89e+14  &     7.13e+06     & -6.86e+07  &         0.000        &    -4.89e+14    &    -4.89e+14     \\\\\n\\textbf{area\\_mean}                &   -7.809e+12  &     1.49e+05     & -5.23e+07  &         0.000        &    -7.81e+12    &    -7.81e+12     \\\\\n\\textbf{smoothness\\_mean}          &   -3.359e+16  &     5.73e+08     & -5.86e+07  &         0.000        &    -3.36e+16    &    -3.36e+16     \\\\\n\\textbf{compactness\\_mean}         &    3.699e+16  &     3.79e+08     &  9.76e+07  &         0.000        &      3.7e+16    &      3.7e+16     \\\\\n\\textbf{concavity\\_mean}           &    7.826e+15  &     2.97e+08     &  2.63e+07  &         0.000        &     7.83e+15    &     7.83e+15     \\\\\n\\textbf{concave\\_points\\_mean}     &   -1.689e+16  &     5.62e+08     &    -3e+07  &         0.000        &    -1.69e+16    &    -1.69e+16     \\\\\n\\textbf{symmetry\\_mean}            &    7.224e+15  &     2.11e+08     &  3.42e+07  &         0.000        &     7.22e+15    &     7.22e+15     \\\\\n\\textbf{fractal\\_dimension\\_mean}  &   -6.308e+16  &     1.58e+09     & -3.98e+07  &         0.000        &    -6.31e+16    &    -6.31e+16     \\\\\n\\textbf{radius\\_se}                &   -1.068e+16  &     8.82e+07     & -1.21e+08  &         0.000        &    -1.07e+16    &    -1.07e+16     \\\\\n\\textbf{texture\\_se}               &    3.419e+14  &     1.05e+07     &  3.27e+07  &         0.000        &     3.42e+14    &     3.42e+14     \\\\\n\\textbf{perimeter\\_se}             &    1.172e+15  &     1.17e+07     &     1e+08  &         0.000        &     1.17e+15    &     1.17e+15     \\\\\n\\textbf{area\\_se}                  &   -2.141e+12  &     3.97e+05     & -5.39e+06  &         0.000        &    -2.14e+12    &    -2.14e+12     \\\\\n\\textbf{smoothness\\_se}            &    6.019e+16  &     1.88e+09     &   3.2e+07  &         0.000        &     6.02e+16    &     6.02e+16     \\\\\n\\textbf{compactness\\_se}           &   -3.617e+16  &     6.16e+08     & -5.87e+07  &         0.000        &    -3.62e+16    &    -3.62e+16     \\\\\n\\textbf{concavity\\_se}             &    2.808e+16  &      3.7e+08     &   7.6e+07  &         0.000        &     2.81e+16    &     2.81e+16     \\\\\n\\textbf{concave\\_points\\_se}       &   -2.014e+17  &     1.55e+09     &  -1.3e+08  &         0.000        &    -2.01e+17    &    -2.01e+17     \\\\\n\\textbf{symmetry\\_se}              &    2.634e+16  &     7.75e+08     &   3.4e+07  &         0.000        &     2.63e+16    &     2.63e+16     \\\\\n\\textbf{fractal\\_dimension\\_se}    &    3.012e+17  &     3.32e+09     &  9.08e+07  &         0.000        &     3.01e+17    &     3.01e+17     \\\\\n\\textbf{radius\\_worst}             &   -9.245e+14  &     1.65e+07     & -5.61e+07  &         0.000        &    -9.25e+14    &    -9.25e+14     \\\\\n\\textbf{texture\\_worst}            &   -1.221e+14  &     1.97e+06     & -6.19e+07  &         0.000        &    -1.22e+14    &    -1.22e+14     \\\\\n\\textbf{perimeter\\_worst}          &   -1.011e+14  &     1.69e+06     &    -6e+07  &         0.000        &    -1.01e+14    &    -1.01e+14     \\\\\n\\textbf{area\\_worst}               &    1.126e+13  &     9.08e+04     &  1.24e+08  &         0.000        &     1.13e+13    &     1.13e+13     \\\\\n\\textbf{smoothness\\_worst}         &   -5.403e+15  &     4.08e+08     & -1.33e+07  &         0.000        &     -5.4e+15    &     -5.4e+15     \\\\\n\\textbf{compactness\\_worst}        &    3.441e+15  &     1.09e+08     &  3.16e+07  &         0.000        &     3.44e+15    &     3.44e+15     \\\\\n\\textbf{concavity\\_worst}          &   -8.144e+15  &     7.63e+07     & -1.07e+08  &         0.000        &    -8.14e+15    &    -8.14e+15     \\\\\n\\textbf{concave\\_points\\_worst}    &    5.044e+15  &      2.6e+08     &  1.94e+07  &         0.000        &     5.04e+15    &     5.04e+15     \\\\\n\\textbf{symmetry\\_worst}           &   -7.016e+15  &      1.4e+08     &    -5e+07  &         0.000        &    -7.02e+15    &    -7.02e+15     \\\\\n\\textbf{fractal\\_dimension\\_worst} &   -9.479e+15  &     6.77e+08     &  -1.4e+07  &         0.000        &    -9.48e+15    &    -9.48e+15     \\\\\n\\bottomrule\n\\end{tabular}\n%\\caption{Generalized Linear Model Regression Results}\n\\end{center}"
          },
          "metadata": {},
          "execution_count": 70
        }
      ],
      "source": [
        "# Prepare the dataset for modeling\n",
        "X = cancer_df.drop('diagnosis', axis=1)\n",
        "X = sm.add_constant(X)\n",
        "y = cancer_df['diagnosis']\n",
        "\n",
        "# Fit a logistic regression model to the data\n",
        "full_model = sm.GLM(y, X, family=sm.families.Binomial()).fit()\n",
        "\n",
        "# Display the summary\n",
        "full_model.summary()"
      ]
    },
    {
      "cell_type": "markdown",
      "metadata": {
        "id": "nbyaqsRC_Tpy"
      },
      "source": [
        "## Full model results:\n",
        "1. Upon fitting the logistic regression model (incl. all the predictor variables) to the data, we encountered significant multicollinearity among the predictors, as shown by inflated standard errors.\n",
        "2. This undermines the reliability of the coefficient estimates, which may not accurately represent the relationship between the predictors and the dependent variable.\n",
        "\n",
        "## Subsequent stages:\n",
        "1. To address multicollinearity, I've removed highly correlated predictors (with VIF >10) from the model in the subsequent stages.\n",
        "2. A 10% threshold is a balance between being too lenient and too strict. So I chose q = 0.1 to perform FDR control and get significant predictors.\n",
        "3. I then fit a new logistic model with only the significant predictors to the data."
      ]
    },
    {
      "cell_type": "code",
      "execution_count": null,
      "metadata": {
        "colab": {
          "base_uri": "https://localhost:8080/",
          "height": 432
        },
        "id": "VsAw33tF_Tpz",
        "outputId": "1835165d-4013-4d48-b9d6-79e7656eb541"
      },
      "outputs": [
        {
          "output_type": "stream",
          "name": "stdout",
          "text": [
            "R^2 of the model is: 0.8379038773633135\n"
          ]
        },
        {
          "output_type": "execute_result",
          "data": {
            "text/plain": [
              "<class 'statsmodels.iolib.summary.Summary'>\n",
              "\"\"\"\n",
              "                 Generalized Linear Model Regression Results                  \n",
              "==============================================================================\n",
              "Dep. Variable:              diagnosis   No. Observations:                  569\n",
              "Model:                            GLM   Df Residuals:                      561\n",
              "Model Family:                Binomial   Df Model:                            7\n",
              "Link Function:                  Logit   Scale:                          1.0000\n",
              "Method:                          IRLS   Log-Likelihood:                -60.903\n",
              "Date:                Mon, 13 May 2024   Deviance:                       121.81\n",
              "Time:                        20:40:41   Pearson chi2:                     177.\n",
              "No. Iterations:                     9   Pseudo R-squ. (CS):             0.6693\n",
              "Covariance Type:            nonrobust                                         \n",
              "========================================================================================\n",
              "                           coef    std err          z      P>|z|      [0.025      0.975]\n",
              "----------------------------------------------------------------------------------------\n",
              "const                   12.3344      1.595      7.734      0.000       9.209      15.460\n",
              "texture_se              -0.1000      0.535     -0.187      0.852      -1.148       0.948\n",
              "area_se                 -0.2126      0.029     -7.262      0.000      -0.270      -0.155\n",
              "smoothness_se         -381.7182    121.049     -3.153      0.002    -618.970    -144.466\n",
              "concavity_se            96.4839     26.657      3.619      0.000      44.236     148.731\n",
              "symmetry_se             -3.0558     33.601     -0.091      0.928     -68.912      62.800\n",
              "fractal_dimension_se   711.5756    224.072      3.176      0.001     272.403    1150.748\n",
              "concavity_worst        -27.6310      3.776     -7.318      0.000     -35.031     -20.230\n",
              "========================================================================================\n",
              "\"\"\""
            ],
            "text/html": [
              "<table class=\"simpletable\">\n",
              "<caption>Generalized Linear Model Regression Results</caption>\n",
              "<tr>\n",
              "  <th>Dep. Variable:</th>       <td>diagnosis</td>    <th>  No. Observations:  </th>  <td>   569</td> \n",
              "</tr>\n",
              "<tr>\n",
              "  <th>Model:</th>                  <td>GLM</td>       <th>  Df Residuals:      </th>  <td>   561</td> \n",
              "</tr>\n",
              "<tr>\n",
              "  <th>Model Family:</th>        <td>Binomial</td>     <th>  Df Model:          </th>  <td>     7</td> \n",
              "</tr>\n",
              "<tr>\n",
              "  <th>Link Function:</th>         <td>Logit</td>      <th>  Scale:             </th> <td>  1.0000</td>\n",
              "</tr>\n",
              "<tr>\n",
              "  <th>Method:</th>                <td>IRLS</td>       <th>  Log-Likelihood:    </th> <td> -60.903</td>\n",
              "</tr>\n",
              "<tr>\n",
              "  <th>Date:</th>            <td>Mon, 13 May 2024</td> <th>  Deviance:          </th> <td>  121.81</td>\n",
              "</tr>\n",
              "<tr>\n",
              "  <th>Time:</th>                <td>20:40:41</td>     <th>  Pearson chi2:      </th>  <td>  177.</td> \n",
              "</tr>\n",
              "<tr>\n",
              "  <th>No. Iterations:</th>          <td>9</td>        <th>  Pseudo R-squ. (CS):</th>  <td>0.6693</td> \n",
              "</tr>\n",
              "<tr>\n",
              "  <th>Covariance Type:</th>     <td>nonrobust</td>    <th>                     </th>     <td> </td>   \n",
              "</tr>\n",
              "</table>\n",
              "<table class=\"simpletable\">\n",
              "<tr>\n",
              "            <td></td>              <th>coef</th>     <th>std err</th>      <th>z</th>      <th>P>|z|</th>  <th>[0.025</th>    <th>0.975]</th>  \n",
              "</tr>\n",
              "<tr>\n",
              "  <th>const</th>                <td>   12.3344</td> <td>    1.595</td> <td>    7.734</td> <td> 0.000</td> <td>    9.209</td> <td>   15.460</td>\n",
              "</tr>\n",
              "<tr>\n",
              "  <th>texture_se</th>           <td>   -0.1000</td> <td>    0.535</td> <td>   -0.187</td> <td> 0.852</td> <td>   -1.148</td> <td>    0.948</td>\n",
              "</tr>\n",
              "<tr>\n",
              "  <th>area_se</th>              <td>   -0.2126</td> <td>    0.029</td> <td>   -7.262</td> <td> 0.000</td> <td>   -0.270</td> <td>   -0.155</td>\n",
              "</tr>\n",
              "<tr>\n",
              "  <th>smoothness_se</th>        <td> -381.7182</td> <td>  121.049</td> <td>   -3.153</td> <td> 0.002</td> <td> -618.970</td> <td> -144.466</td>\n",
              "</tr>\n",
              "<tr>\n",
              "  <th>concavity_se</th>         <td>   96.4839</td> <td>   26.657</td> <td>    3.619</td> <td> 0.000</td> <td>   44.236</td> <td>  148.731</td>\n",
              "</tr>\n",
              "<tr>\n",
              "  <th>symmetry_se</th>          <td>   -3.0558</td> <td>   33.601</td> <td>   -0.091</td> <td> 0.928</td> <td>  -68.912</td> <td>   62.800</td>\n",
              "</tr>\n",
              "<tr>\n",
              "  <th>fractal_dimension_se</th> <td>  711.5756</td> <td>  224.072</td> <td>    3.176</td> <td> 0.001</td> <td>  272.403</td> <td> 1150.748</td>\n",
              "</tr>\n",
              "<tr>\n",
              "  <th>concavity_worst</th>      <td>  -27.6310</td> <td>    3.776</td> <td>   -7.318</td> <td> 0.000</td> <td>  -35.031</td> <td>  -20.230</td>\n",
              "</tr>\n",
              "</table>"
            ],
            "text/latex": "\\begin{center}\n\\begin{tabular}{lclc}\n\\toprule\n\\textbf{Dep. Variable:}         &    diagnosis     & \\textbf{  No. Observations:  } &      569    \\\\\n\\textbf{Model:}                 &       GLM        & \\textbf{  Df Residuals:      } &      561    \\\\\n\\textbf{Model Family:}          &     Binomial     & \\textbf{  Df Model:          } &        7    \\\\\n\\textbf{Link Function:}         &      Logit       & \\textbf{  Scale:             } &    1.0000   \\\\\n\\textbf{Method:}                &       IRLS       & \\textbf{  Log-Likelihood:    } &   -60.903   \\\\\n\\textbf{Date:}                  & Mon, 13 May 2024 & \\textbf{  Deviance:          } &    121.81   \\\\\n\\textbf{Time:}                  &     20:40:41     & \\textbf{  Pearson chi2:      } &     177.    \\\\\n\\textbf{No. Iterations:}        &        9         & \\textbf{  Pseudo R-squ. (CS):} &   0.6693    \\\\\n\\textbf{Covariance Type:}       &    nonrobust     & \\textbf{                     } &             \\\\\n\\bottomrule\n\\end{tabular}\n\\begin{tabular}{lcccccc}\n                                & \\textbf{coef} & \\textbf{std err} & \\textbf{z} & \\textbf{P$> |$z$|$} & \\textbf{[0.025} & \\textbf{0.975]}  \\\\\n\\midrule\n\\textbf{const}                  &      12.3344  &        1.595     &     7.734  &         0.000        &        9.209    &       15.460     \\\\\n\\textbf{texture\\_se}            &      -0.1000  &        0.535     &    -0.187  &         0.852        &       -1.148    &        0.948     \\\\\n\\textbf{area\\_se}               &      -0.2126  &        0.029     &    -7.262  &         0.000        &       -0.270    &       -0.155     \\\\\n\\textbf{smoothness\\_se}         &    -381.7182  &      121.049     &    -3.153  &         0.002        &     -618.970    &     -144.466     \\\\\n\\textbf{concavity\\_se}          &      96.4839  &       26.657     &     3.619  &         0.000        &       44.236    &      148.731     \\\\\n\\textbf{symmetry\\_se}           &      -3.0558  &       33.601     &    -0.091  &         0.928        &      -68.912    &       62.800     \\\\\n\\textbf{fractal\\_dimension\\_se} &     711.5756  &      224.072     &     3.176  &         0.001        &      272.403    &     1150.748     \\\\\n\\textbf{concavity\\_worst}       &     -27.6310  &        3.776     &    -7.318  &         0.000        &      -35.031    &      -20.230     \\\\\n\\bottomrule\n\\end{tabular}\n%\\caption{Generalized Linear Model Regression Results}\n\\end{center}"
          },
          "metadata": {},
          "execution_count": 71
        }
      ],
      "source": [
        "# Calculate Variance Inflation Factor (VIF) to check for multicollinearity\n",
        "from statsmodels.stats.outliers_influence import variance_inflation_factor\n",
        "\n",
        "def calculate_vif(X):\n",
        "    vif_data = pd.DataFrame()\n",
        "    vif_data[\"feature\"] = X.columns\n",
        "    vif_data[\"VIF\"] = [variance_inflation_factor(X.values, i) for i in range(X.shape[1])]\n",
        "    return vif_data\n",
        "\n",
        "# Set the threshlold for VIF to 10\n",
        "threshold_vif = 10\n",
        "\n",
        "# Remove columns with VIF greater than the threshold\n",
        "while True:\n",
        "    vif = calculate_vif(X)\n",
        "    max_vif = vif['VIF'].max()\n",
        "    if max_vif > threshold_vif:\n",
        "        feature_to_remove = vif[vif['VIF'] == max_vif]['feature'].values[0]\n",
        "        X.drop(columns=[feature_to_remove], inplace=True)\n",
        "    else:\n",
        "        break\n",
        "\n",
        " # Add a constant for the intercept\n",
        "X = sm.add_constant(X)\n",
        "\n",
        "# Fit a logistic regression model to the data\n",
        "full_model = sm.GLM(y, X, family=sm.families.Binomial()).fit()\n",
        "\n",
        "# Calculate R-squared for the model\n",
        "r_squared = 1 - (full_model.deviance / full_model.null_deviance)\n",
        "print(\"R^2 of the model is:\", r_squared)\n",
        "\n",
        "# Display the summary of the logistic regression model\n",
        "full_model.summary()"
      ]
    },
    {
      "cell_type": "code",
      "execution_count": null,
      "metadata": {
        "colab": {
          "base_uri": "https://localhost:8080/"
        },
        "id": "FKmN6oO_-t47",
        "outputId": "39b1a6eb-c941-444d-b821-5de7432ab6f9"
      },
      "outputs": [
        {
          "output_type": "execute_result",
          "data": {
            "text/plain": [
              "texture_se              8.516400e-01\n",
              "area_se                 3.802717e-13\n",
              "smoothness_se           1.613723e-03\n",
              "concavity_se            2.952802e-04\n",
              "symmetry_se             9.275362e-01\n",
              "fractal_dimension_se    1.494946e-03\n",
              "concavity_worst         2.519751e-13\n",
              "dtype: float64"
            ]
          },
          "metadata": {},
          "execution_count": 72
        }
      ],
      "source": [
        "# Extract p-values for each predictor in the model\n",
        "p_values = full_model.pvalues[1:]\n",
        "p_values"
      ]
    },
    {
      "cell_type": "code",
      "execution_count": null,
      "metadata": {
        "colab": {
          "base_uri": "https://localhost:8080/",
          "height": 509
        },
        "id": "9TrFV1qp-t47",
        "outputId": "e756cd80-a4b5-4e86-da21-cea06a07ab73"
      },
      "outputs": [
        {
          "output_type": "display_data",
          "data": {
            "text/plain": [
              "<Figure size 640x480 with 1 Axes>"
            ],
            "image/png": "[encoded data removed]"
          },
          "metadata": {}
        },
        {
          "output_type": "stream",
          "name": "stdout",
          "text": [
            "The histogram shows a large number of predictors have p-values close to 0, indicating significant results. There are also a few with p-values around 0.8, suggesting non-significance.\n"
          ]
        }
      ],
      "source": [
        "# Plot a histogram of p-values\n",
        "plt.hist(p_values, color=\"lightblue\", edgecolor=\"black\")\n",
        "plt.xlabel(\"p-value\")\n",
        "plt.ylabel(\"Frequency\")\n",
        "plt.title(\"Histogram of p-values\")\n",
        "plt.show()\n",
        "\n",
        "print(\"The histogram shows a large number of predictors have p-values close to 0, indicating significant results. There are also a few with p-values around 0.8, suggesting non-significance.\")"
      ]
    },
    {
      "cell_type": "code",
      "execution_count": null,
      "metadata": {
        "colab": {
          "base_uri": "https://localhost:8080/",
          "height": 586
        },
        "id": "VcraFZnI-t48",
        "outputId": "af9acbde-8ff7-425e-b7ea-8239d5460a80"
      },
      "outputs": [
        {
          "output_type": "display_data",
          "data": {
            "text/plain": [
              "<Figure size 800x600 with 1 Axes>"
            ],
            "image/png": "[encoded data removed]"
          },
          "metadata": {}
        },
        {
          "output_type": "stream",
          "name": "stdout",
          "text": [
            "The cut-off p-value at 10% FDR is: 0.0016\n"
          ]
        }
      ],
      "source": [
        "# Determine the threshold p-value at a given FDR level and plot the p-values.\n",
        "# Parameters:\n",
        "    # pvals (list or array): A list or array of p-values.\n",
        "    # q (float): The desired FDR level.\n",
        "# Returns:\n",
        "    # float: The threshold p-value at the given FDR level.\n",
        "\n",
        "def fdr_cut(pvals, q=0.1):\n",
        "    # Sort p-values and remove NaNs\n",
        "    pvals = sorted([p for p in pvals if not pd.isna(p)])\n",
        "    N = len(pvals)\n",
        "    k = np.arange(1, N + 1)\n",
        "    alpha = max(p for p, rank in zip(pvals, k) if p <= q * rank / (N + 1))\n",
        "\n",
        "    # Plot the p-values\n",
        "    plt.figure(figsize=(8, 6))\n",
        "    plt.scatter(k, pvals, c=['gray' if p > alpha else 'red' for p in pvals], s=5)\n",
        "    plt.plot(k, q * k / (N + 1), color='blue', label=f'FDR {q}')\n",
        "    plt.xscale('log')\n",
        "    plt.yscale('log')\n",
        "    plt.xlabel(\"Order\")\n",
        "    plt.ylabel(\"p-value\")\n",
        "    plt.title(f\"FDR of {q}\")\n",
        "    plt.legend()\n",
        "    plt.show()\n",
        "\n",
        "    return alpha\n",
        "\n",
        "# Apply the function to determine the threshold p-value at 10% FDR\n",
        "threshold = fdr_cut(p_values)\n",
        "print(f\"The cut-off p-value at 10% FDR is: {threshold:.4f}\")"
      ]
    },
    {
      "cell_type": "code",
      "execution_count": null,
      "metadata": {
        "colab": {
          "base_uri": "https://localhost:8080/"
        },
        "id": "uRY3Z9fG-t48",
        "outputId": "679b8e0e-9072-4682-8f6d-6f9acc79d683"
      },
      "outputs": [
        {
          "output_type": "stream",
          "name": "stdout",
          "text": [
            "Significant predictors are: ['area_se', 'concavity_se', 'fractal_dimension_se', 'concavity_worst']\n",
            "R^2 value of the model is: 0.8226\n"
          ]
        }
      ],
      "source": [
        "# Identify significant predictors based on the cut-off p-value\n",
        "significant_predictors = p_values[p_values <= 0.0016].index.tolist()\n",
        "\n",
        "# Prepare the data for the new model\n",
        "selected_columns = ['diagnosis'] + significant_predictors\n",
        "X_cut = cancer_df[selected_columns].drop('diagnosis', axis=1)\n",
        "X_cut = sm.add_constant(X_cut)  # Add a constant (intercept) to the predictors\n",
        "y_cut = cancer_df['diagnosis']\n",
        "\n",
        "# Fit a logistic regression model using only the significant predictors\n",
        "cut_model = sm.GLM(y_cut, X_cut, family=sm.families.Binomial()).fit()\n",
        "\n",
        "print(f\"Significant predictors are: {significant_predictors}\")\n",
        "\n",
        "# Calculate the R^2 value for the new model\n",
        "r_squared_cut = 1 - (cut_model.deviance / cut_model.null_deviance)\n",
        "\n",
        "print(f\"R^2 value of the model is: {r_squared_cut:.4f}\")"
      ]
    },
    {
      "cell_type": "markdown",
      "metadata": {
        "id": "zeSfelTN-t48"
      },
      "source": [
        "## 3. **Model Evaluation**\n",
        "- Evaluate your logistic regression model using appropriate metrics (e.g., accuracy, R^2, RMSE (all out-of-sample)).\n",
        "- Split the dataset into training and testing sets to perform this evaluation.\n",
        "- Interpret these metrics to assess the performance of your model. Is it good? Why?"
      ]
    },
    {
      "cell_type": "code",
      "execution_count": null,
      "metadata": {
        "id": "A508RX_I-t48",
        "colab": {
          "base_uri": "https://localhost:8080/"
        },
        "outputId": "c0cfec8e-76a6-4bfb-9e3f-cdcea374449a"
      },
      "outputs": [
        {
          "output_type": "stream",
          "name": "stdout",
          "text": [
            "Evaluation results based on an 80-20 train-test split:\n",
            "Accuracy: 0.9474\n",
            "R^2: 0.7770\n",
            "RMSE: 0.2294\n"
          ]
        }
      ],
      "source": [
        "# Import necessary libraries for model evaluation\n",
        "from sklearn.model_selection import train_test_split\n",
        "from sklearn.linear_model import LogisticRegression\n",
        "from sklearn.metrics import log_loss\n",
        "from sklearn.metrics import accuracy_score, mean_squared_error, confusion_matrix\n",
        "\n",
        "# Split the dataset into a training set (80%) and a testing set (20%)\n",
        "X_train, X_test, y_train, y_test = train_test_split(X_cut, y_cut, test_size=0.2, random_state=42)\n",
        "\n",
        "# Fit the Logistic Regression model on the training data\n",
        "log_reg = LogisticRegression()\n",
        "log_reg.fit(X_train, y_train)\n",
        "\n",
        "# Make predictions on the testing data\n",
        "y_pred = log_reg.predict(X_test)\n",
        "\n",
        "# Calculate predicted probabilities\n",
        "y_pred_prob = log_reg.predict_proba(X_test)[:, 1]\n",
        "\n",
        "# Calculate the residual deviance for the model\n",
        "residual_deviance = -2 * log_loss(y_test, y_pred_prob, normalize=False)\n",
        "\n",
        "# Fit the null model (a model with only an intercept)\n",
        "null_model = LogisticRegression()\n",
        "null_model.fit(np.ones((X_train.shape[0], 1)), y_train)\n",
        "y_null_pred_prob = null_model.predict_proba(np.ones((X_test.shape[0], 1)))[:, 1]\n",
        "\n",
        "# Calculate the null deviance\n",
        "null_deviance = -2 * log_loss(y_test, y_null_pred_prob, normalize=False)\n",
        "\n",
        "# Calculate R^2\n",
        "r_squared = 1 - (residual_deviance / null_deviance)\n",
        "\n",
        "# Calculate the RMSE of the model\n",
        "accuracy = accuracy_score(y_test, y_pred)\n",
        "rmse = np.sqrt(mean_squared_error(y_test, y_pred))\n",
        "\n",
        "print(\"Evaluation results based on an 80-20 train-test split:\")\n",
        "print(f'Accuracy: {accuracy:.4f}')\n",
        "print(f'R^2: {r_squared:.4f}')\n",
        "print(f'RMSE: {rmse:.4f}')"
      ]
    },
    {
      "cell_type": "markdown",
      "source": [
        "\n",
        "The logistic regression model demonstrates a very high predictive ability with an accuracy of 94.74%.\n",
        "\n",
        "Its R-squared value of 77.70% indicates a strong fit, suggesting the model effectively captures a significant portion of the data's variance.\n",
        "\n",
        "A low RMSE of 0.2294 indicates precise predictions with minimal error, suggesting that the model is robust and reliable for this dataset."
      ],
      "metadata": {
        "id": "BlKYdyrrcovM"
      }
    },
    {
      "cell_type": "markdown",
      "metadata": {
        "id": "diegYh_W_oxP"
      },
      "source": [
        "## 4. **Testing Interactions Between Features**\n",
        "- Explore and test the interactions between different features in the dataset. Pay particular attention to interactions involving both categorical/dummy and continuous variables.\n",
        "- For this excercise, use a linear regression rather than a logistic regression model.\n",
        "- Discuss issues that occur when using a linear regression model to predict binary outcomes.\n",
        "- Create and analyze interaction terms involving categorical/dummy variables (such as 'diagnosis' converted into a dummy variable) and continuous variables (like 'radius_mean' or 'texture_mean').\n",
        "- Fit a regression model that includes interaction terms, for example, between 'diagnosis' and 'radius_mean', and between 'diagnosis' and 'texture_mean'.\n",
        "- Discuss the influence of these interactions on the model. Describe how to interpret these interactions and their implications for understanding the data."
      ]
    },
    {
      "cell_type": "code",
      "source": [
        "# I chose to explore interactions between 'diagnosis' and 3 other variables - radius_mean, texture_mean and symmetry_mean\n",
        "\n",
        "# Plot the interaction of 'diagnosis' with 'radius_mean'\n",
        "sns.lmplot(x='radius_mean', y='diagnosis', data=cancer_df, hue='diagnosis', logistic=True)\n",
        "plt.title('Interaction of Diagnosis and Radius Mean')\n",
        "\n",
        "# Plot the interaction of 'diagnosis' with 'texture_mean'\n",
        "sns.lmplot(x='texture_mean', y='diagnosis', data=cancer_df, hue='diagnosis', logistic=True)\n",
        "plt.title('Interaction of Diagnosis and Texture Mean')\n",
        "\n",
        "# Plot the interaction of 'diagnosis' with 'symmetry_mean'\n",
        "sns.lmplot(x='symmetry_mean', y='diagnosis', data=cancer_df, hue='diagnosis', logistic=True)\n",
        "plt.title('Interaction of Diagnosis and Symmetry Mean')\n",
        "\n",
        "plt.show()"
      ],
      "metadata": {
        "colab": {
          "base_uri": "https://localhost:8080/",
          "height": 1000
        },
        "id": "8VC3QwU4oVSi",
        "outputId": "e406a639-d588-48ae-936a-a43ae34fa4e4"
      },
      "execution_count": null,
      "outputs": [
        {
          "output_type": "stream",
          "name": "stderr",
          "text": [
            "/usr/local/lib/python3.10/dist-packages/numpy/lib/nanfunctions.py:1563: RuntimeWarning: All-NaN slice encountered\n",
            "  return function_base._ureduce(a,\n",
            "/usr/local/lib/python3.10/dist-packages/numpy/lib/nanfunctions.py:1563: RuntimeWarning: All-NaN slice encountered\n",
            "  return function_base._ureduce(a,\n",
            "/usr/local/lib/python3.10/dist-packages/numpy/lib/nanfunctions.py:1563: RuntimeWarning: All-NaN slice encountered\n",
            "  return function_base._ureduce(a,\n",
            "/usr/local/lib/python3.10/dist-packages/numpy/lib/nanfunctions.py:1563: RuntimeWarning: All-NaN slice encountered\n",
            "  return function_base._ureduce(a,\n",
            "/usr/local/lib/python3.10/dist-packages/numpy/lib/nanfunctions.py:1563: RuntimeWarning: All-NaN slice encountered\n",
            "  return function_base._ureduce(a,\n",
            "/usr/local/lib/python3.10/dist-packages/numpy/lib/nanfunctions.py:1563: RuntimeWarning: All-NaN slice encountered\n",
            "  return function_base._ureduce(a,\n"
          ]
        },
        {
          "output_type": "display_data",
          "data": {
            "text/plain": [
              "<Figure size 576.736x500 with 1 Axes>"
            ],
            "image/png": "[encoded data removed]"
          },
          "metadata": {}
        },
        {
          "output_type": "display_data",
          "data": {
            "text/plain": [
              "<Figure size 576.736x500 with 1 Axes>"
            ],
            "image/png": "[encoded data removed]"
          },
          "metadata": {}
        },
        {
          "output_type": "display_data",
          "data": {
            "text/plain": [
              "<Figure size 576.736x500 with 1 Axes>"
            ],
            "image/png": "[encoded data removed]"
          },
          "metadata": {}
        }
      ]
    },
    {
      "cell_type": "markdown",
      "source": [
        "The plots above visually suggest no interaction due to the parallel clustering of points for different diagnosis categories."
      ],
      "metadata": {
        "id": "t7XvMwMnvGIP"
      }
    },
    {
      "cell_type": "markdown",
      "source": [
        "### ISSUES WITH USING LINEAR MODEL TO PREDICT BINARY OUTCOMES:\n",
        "\n",
        "1. Linear regression can predict values outside the 0-1 range, which are not valid probabilities. For a binary outcome, all predictions should logically fall between 0 and 1.\n",
        "\n",
        "2.  Linear regression assumes that the residuals (errors) are normally distributed. However, with binary outcomes, the error distribution can be binomial, leading to incorrect standard errors and confidence intervals.\n",
        "\n",
        "3. Linear regression assumes constant variance of residuals. In binary outcomes, variance is not constant and typically changes with the predicted probability, leading to heteroscedasticity.\n",
        "\n",
        "4. The model assumes a linear relationship between independent variables and the dependent variable. In binary outcomes, this relationship is often not linear.\n",
        "\n",
        "5. The coefficients in linear regression are meant to represent the change in the outcome for a unit change in the predictor. With a binary outcome, these changes are not additive, making the coefficients difficult to interpret meaningfully.\n",
        "\n",
        "6. A linear regression model is unlikely to fit a binary outcome dataset properly, leading to poor model performance and predictive accuracy."
      ],
      "metadata": {
        "id": "jW_nUnb4sQS2"
      }
    },
    {
      "cell_type": "code",
      "execution_count": null,
      "metadata": {
        "id": "VMUid9rWQO1Y",
        "colab": {
          "base_uri": "https://localhost:8080/"
        },
        "outputId": "5ba2ee32-fe2b-4fe4-c105-ee78799a833f"
      },
      "outputs": [
        {
          "output_type": "stream",
          "name": "stdout",
          "text": [
            "                            OLS Regression Results                            \n",
            "==============================================================================\n",
            "Dep. Variable:              diagnosis   R-squared:                       0.996\n",
            "Model:                            OLS   Adj. R-squared:                  0.996\n",
            "Method:                 Least Squares   F-statistic:                     4095.\n",
            "Date:                Mon, 13 May 2024   Prob (F-statistic):               0.00\n",
            "Time:                        20:41:38   Log-Likelihood:                 1181.0\n",
            "No. Observations:                 569   AIC:                            -2294.\n",
            "Df Residuals:                     535   BIC:                            -2146.\n",
            "Df Model:                          33                                         \n",
            "Covariance Type:            nonrobust                                         \n",
            "===========================================================================================\n",
            "                              coef    std err          t      P>|t|      [0.025      0.975]\n",
            "-------------------------------------------------------------------------------------------\n",
            "Intercept                   1.0620      0.061     17.448      0.000       0.942       1.182\n",
            "radius_mean                -0.0802      0.023     -3.467      0.001      -0.126      -0.035\n",
            "texture_mean               -0.0023      0.001     -2.014      0.045      -0.005   -5.77e-05\n",
            "perimeter_mean              0.0021      0.003      0.636      0.525      -0.004       0.009\n",
            "area_mean                   0.0005   7.82e-05      6.396      0.000       0.000       0.001\n",
            "smoothness_mean            -0.7277      0.269     -2.704      0.007      -1.256      -0.199\n",
            "compactness_mean            0.0831      0.180      0.461      0.645      -0.271       0.438\n",
            "concavity_mean              0.2639      0.141      1.868      0.062      -0.014       0.541\n",
            "concave_points_mean         0.5947      0.263      2.261      0.024       0.078       1.111\n",
            "symmetry_mean              -1.2977      0.134     -9.714      0.000      -1.560      -1.035\n",
            "fractal_dimension_mean     -0.2058      0.740     -0.278      0.781      -1.660       1.248\n",
            "radius_se                   0.0035      0.041      0.085      0.933      -0.078       0.085\n",
            "texture_se                  0.0053      0.005      1.068      0.286      -0.004       0.015\n",
            "perimeter_se                0.0070      0.005      1.278      0.202      -0.004       0.018\n",
            "area_se                    -0.0007      0.000     -3.853      0.000      -0.001      -0.000\n",
            "smoothness_se              -0.0294      0.888     -0.033      0.974      -1.773       1.715\n",
            "compactness_se              0.4053      0.288      1.408      0.160      -0.160       0.971\n",
            "concavity_se                0.0470      0.175      0.269      0.788      -0.296       0.390\n",
            "concave_points_se          -1.0174      0.731     -1.391      0.165      -2.454       0.419\n",
            "symmetry_se                 0.3312      0.363      0.913      0.361      -0.381       1.043\n",
            "fractal_dimension_se       -2.9985      1.558     -1.925      0.055      -6.059       0.062\n",
            "radius_worst               -0.0062      0.008     -0.805      0.421      -0.022       0.009\n",
            "texture_worst              -0.0018      0.001     -1.942      0.053      -0.004    2.06e-05\n",
            "perimeter_worst            -0.0004      0.001     -0.550      0.583      -0.002       0.001\n",
            "area_worst               9.999e-05   4.27e-05      2.340      0.020     1.6e-05       0.000\n",
            "smoothness_worst            0.2387      0.191      1.252      0.211      -0.136       0.613\n",
            "compactness_worst          -0.0220      0.051     -0.429      0.668      -0.123       0.079\n",
            "concavity_worst            -0.0840      0.036     -2.333      0.020      -0.155      -0.013\n",
            "concave_points_worst       -0.2279      0.122     -1.862      0.063      -0.468       0.013\n",
            "symmetry_worst              0.1222      0.066      1.844      0.066      -0.008       0.252\n",
            "fractal_dimension_worst     0.2856      0.319      0.896      0.371      -0.341       0.912\n",
            "diagnosis:radius_mean       0.0390      0.001     25.997      0.000       0.036       0.042\n",
            "diagnosis:texture_mean      0.0061      0.001      8.740      0.000       0.005       0.007\n",
            "diagnosis:symmetry_mean     1.7255      0.109     15.854      0.000       1.512       1.939\n",
            "==============================================================================\n",
            "Omnibus:                       31.227   Durbin-Watson:                   2.064\n",
            "Prob(Omnibus):                  0.000   Jarque-Bera (JB):               67.651\n",
            "Skew:                          -0.303   Prob(JB):                     2.04e-15\n",
            "Kurtosis:                       4.577   Cond. No.                     1.55e+06\n",
            "==============================================================================\n",
            "\n",
            "Notes:\n",
            "[1] Standard Errors assume that the covariance matrix of the errors is correctly specified.\n",
            "[2] The condition number is large, 1.55e+06. This might indicate that there are\n",
            "strong multicollinearity or other numerical problems.\n"
          ]
        }
      ],
      "source": [
        "# Prepare the dataset for modeling\n",
        "cancer_df.columns = cancer_df.columns.str.replace(' ', '_')\n",
        "\n",
        "# Defining the dependent and independent variables\n",
        "dependent_var = 'diagnosis'\n",
        "independent_vars = cancer_df.columns.drop(dependent_var)\n",
        "\n",
        "# Constructing the regression formula\n",
        "formula = dependent_var + ' ~ ' + ' + '.join(independent_vars) + ' + diagnosis:radius_mean + diagnosis:texture_mean + diagnosis:symmetry_mean'\n",
        "\n",
        "interaction_reg = smf.ols(formula, data=cancer_df).fit()\n",
        "\n",
        "# Model analysis\n",
        "print(interaction_reg.summary())\n"
      ]
    },
    {
      "cell_type": "markdown",
      "source": [
        "1. The linear regression model summary shows p-values of zero for the interaction terms between 'diagnosis' and each of the continuous variables 'radius_mean', 'texture_mean', and 'symmetry_mean'. This suggests that these interactions are highly statistically significant, implying that the effect of these continuous variables on the diagnosis is different depending on whether the diagnosis is 0 or 1.\n",
        "\n",
        "2. Interpreting these interactions:\n",
        "*   diagnosis:radius_mean: The positive coefficient suggests that for a one-unit increase in 'radius_mean', the value of 'diagnosis' increases by 0.039, on average. This implies that 'radius_mean' is an important factor in the 'diagnosis' and has a positive relationship with the likelihood of a diagnosis of 1.\n",
        "*   diagnosis:texture_mean: Similarly, the significant positive coefficient (0.0061) for 'texture_mean' interaction indicates a smaller but still positive effect on 'diagnosis'.\n",
        "*  diagnosis:symmetry_mean: This interaction has a much larger coefficient (1.7255), indicating a strong positive relationship with the 'diagnosis'. This suggests that 'symmetry_mean' has a significant influence on the 'diagnosis'.\n",
        "\n",
        "3. The implications of these findings are that the interaction between diagnosis status and these continuous variables is meaningful. However, the coefficients from linear regression aren't probabilities and can be misleading for binary data. For accurate interpretation, especially for probabilities and odds ratios, these findings should be re-evaluated using logistic regression, which is designed for binary outcomes.\n",
        "\n",
        "\n",
        "\n"
      ],
      "metadata": {
        "id": "H4RcU4ogwg_S"
      }
    },
    {
      "cell_type": "markdown",
      "metadata": {
        "id": "863rgaMl-t49"
      },
      "source": [
        "## 5. **Feature Selection and Cross-Validation: Full vs. Reduced Model**\n",
        "- Create a reduced model using only a subset of significant predictors. You can use methods like FDR Cutoff, forward selection, backward elimination, or any other appropriate feature selection technique.\n",
        "- Compare the performance of the full model (using all predictors) with the reduced model (using significant predictors) using 10-fold cross-validation.\n",
        "- Evaluate the out-of-sample performance for both models across folds and discuss which model performs better and why."
      ]
    },
    {
      "cell_type": "markdown",
      "source": [
        "##NOTE:\n",
        "\n",
        "##Full model with all predictors:\n",
        "Upon fitting the logistic regression model (incl. all the predictor variables) to the data in question 2, I've encountered significant multicollinearity among the predictors, as shown by inflated standard errors.\n",
        "\n",
        "This undermines the reliability of the coefficient estimates, which may not accurately represent the relationship between the predictors and the dependent variable.\n",
        "\n",
        "\n",
        "##Subsequent stages:\n",
        "1. Full model for Q5: To address multicollinearity, I've removed highly correlated predictors (with VIF >10) from the model in the subsequent stages. I chose this model as my full model for question 5.\n",
        "\n",
        "2. Reduced model for Q5:\n",
        "A 10% threshold is a balance between being too lenient and too strict. So I chose q = 0.1 to perform FDR control and get significant predictors. I then fit a new logistic model with only the significant predictors to the data. This will be my reduced model for this question.\n",
        "\n",
        "Both of these models, their summaries and p-value plots have already been obtained/shown in question 2."
      ],
      "metadata": {
        "id": "jFHRfKdE04ck"
      }
    },
    {
      "cell_type": "code",
      "source": [
        "# Calculate the R^2 value of the full model\n",
        "r_squared = 1 - (full_model.deviance / full_model.null_deviance)\n",
        "# Print the R^2 value of the full model\n",
        "print(f\"R^2 value of the full model is: {r_squared:.4f}\")"
      ],
      "metadata": {
        "colab": {
          "base_uri": "https://localhost:8080/"
        },
        "id": "Ly8Pge9Ex-Hz",
        "outputId": "f70211b8-5e28-450b-cf96-aa47b5426ef0"
      },
      "execution_count": null,
      "outputs": [
        {
          "output_type": "stream",
          "name": "stdout",
          "text": [
            "R^2 value of the full model is: 0.8379\n"
          ]
        }
      ]
    },
    {
      "cell_type": "code",
      "source": [
        "# Reduced model has already been obtained in Question 2 by using FDR control\n",
        "# Print the R^2 value for the reduced model\n",
        "print(f\"R^2 value of the reduced model is: {r_squared_cut:.4f}\")"
      ],
      "metadata": {
        "colab": {
          "base_uri": "https://localhost:8080/"
        },
        "id": "Wr67GzsXyTRj",
        "outputId": "bc94bcd8-8a48-49d0-8093-4ae09969f826"
      },
      "execution_count": null,
      "outputs": [
        {
          "output_type": "stream",
          "name": "stdout",
          "text": [
            "R^2 value of the reduced model is: 0.8226\n"
          ]
        }
      ]
    },
    {
      "cell_type": "code",
      "source": [
        "# Function to compute R^2 and deviance of a model\n",
        "def deviance(y, pred):\n",
        "    y = np.array(y)\n",
        "    pred = np.array(pred)\n",
        "    return -2 * np.sum(y * np.log(pred) + (1 - y) * np.log(1 - pred))\n",
        "\n",
        "def R2(y, pred):\n",
        "    dev_val = deviance(y, pred)\n",
        "    dev0 = deviance(y, [np.mean(y)] * len(y))\n",
        "    return 1 - dev_val / dev0"
      ],
      "metadata": {
        "id": "Ljb4GkOdyge4"
      },
      "execution_count": null,
      "outputs": []
    },
    {
      "cell_type": "code",
      "source": [
        "# Setup the experiment\n",
        "n = len(cancer_df)\n",
        "K = 10\n",
        "foldid = np.tile(np.arange(1, K+1), int(np.ceil(n/K)))[:n]\n",
        "np.random.shuffle(foldid)\n",
        "\n",
        "# Empty lists to store results\n",
        "OOS_full = []\n",
        "OOS_cut = []\n",
        "accuracy_full = []\n",
        "accuracy_cut = []\n",
        "confusion_matrices_full = []\n",
        "confusion_matrices_cut = []\n",
        "\n",
        "# Selected full model predictors\n",
        "selected_predictors_full = ['texture_se','area_se', 'smoothness_se', 'concavity_se', 'symmetry_se', 'fractal_dimension_se', 'concavity_worst']\n",
        "\n",
        "# Perform 10-fold cross-validation\n",
        "for k in range(1, K+1):\n",
        "    train_idx = np.where(foldid != k)[0]\n",
        "    test_idx = np.where(foldid == k)[0]\n",
        "\n",
        "    # Full model\n",
        "    X_full_train = sm.add_constant(cancer_df[['diagnosis'] + selected_predictors_full].iloc[train_idx].drop('diagnosis', axis=1))\n",
        "    y_train = cancer_df['diagnosis'].iloc[train_idx]\n",
        "    rfull = sm.GLM(y_train, X_full_train, family=sm.families.Binomial()).fit()\n",
        "\n",
        "    # Cut model\n",
        "    X_cut_train = sm.add_constant(cancer_df[['diagnosis'] + significant_predictors].iloc[train_idx].drop('diagnosis', axis=1))\n",
        "    rcut = sm.GLM(y_train, X_cut_train, family=sm.families.Binomial()).fit()\n",
        "\n",
        "    # Obtain predictions for full model\n",
        "    X_full_test = sm.add_constant(cancer_df[['diagnosis'] + selected_predictors_full].iloc[test_idx].drop('diagnosis', axis=1))\n",
        "    pred_full = rfull.predict(X_full_test)\n",
        "    pred_full_class = (pred_full > 0.5).astype(int)  # Convert probabilities to 0 or 1\n",
        "\n",
        "    # Obtain predictions for reduced model\n",
        "    X_cut_test = sm.add_constant(cancer_df[['diagnosis'] + significant_predictors].iloc[test_idx].drop('diagnosis', axis=1))\n",
        "    pred_cut = rcut.predict(X_cut_test)\n",
        "    pred_cut_class = (pred_cut > 0.5).astype(int)  # Convert probabilities to 0 or 1\n",
        "\n",
        "    # Calculate R^2 for both the models and store them\n",
        "    y_test = cancer_df['diagnosis'].iloc[test_idx]\n",
        "    OOS_full.append(R2(y_test, pred_full))\n",
        "    OOS_cut.append(R2(y_test, pred_cut))\n",
        "\n",
        "    # Calculate accuracy for both the models and store them\n",
        "    accuracy_full.append(accuracy_score(y_test, pred_full_class))\n",
        "    accuracy_cut.append(accuracy_score(y_test, pred_cut_class))\n",
        "\n",
        "    # Calculate and store the confusion matrix\n",
        "    cm_full = confusion_matrix(y_test, pred_full_class)\n",
        "    cm_cut = confusion_matrix(y_test, pred_cut_class)\n",
        "    confusion_matrices_full.append(cm_full)\n",
        "    confusion_matrices_cut.append(cm_cut)"
      ],
      "metadata": {
        "id": "9Tkt7np8yirh"
      },
      "execution_count": null,
      "outputs": []
    },
    {
      "cell_type": "code",
      "source": [
        "# Print the out-of-sample R^2 values of the full model\n",
        "OOS_full"
      ],
      "metadata": {
        "colab": {
          "base_uri": "https://localhost:8080/"
        },
        "id": "SgkqxLGcyn7-",
        "outputId": "028babb3-db3a-42b1-d6bd-3817c009deba"
      },
      "execution_count": null,
      "outputs": [
        {
          "output_type": "execute_result",
          "data": {
            "text/plain": [
              "[0.9046110951481846,\n",
              " 0.36314345522918445,\n",
              " 0.8322993827987906,\n",
              " 0.8268208330097787,\n",
              " 0.7044591513505954,\n",
              " 0.8883253715918147,\n",
              " 0.5646401152500027,\n",
              " 0.8858908081946226,\n",
              " 0.936641301176293,\n",
              " 0.8757468165519305]"
            ]
          },
          "metadata": {},
          "execution_count": 83
        }
      ]
    },
    {
      "cell_type": "code",
      "source": [
        "# Print the out-of-sample R^2 values of the reduced model\n",
        "OOS_cut"
      ],
      "metadata": {
        "colab": {
          "base_uri": "https://localhost:8080/"
        },
        "id": "HYaqW0boyoyj",
        "outputId": "00776789-7f39-4892-8189-7613cc62a702"
      },
      "execution_count": null,
      "outputs": [
        {
          "output_type": "execute_result",
          "data": {
            "text/plain": [
              "[0.9179620303261803,\n",
              " 0.48289730628272565,\n",
              " 0.8459170942471372,\n",
              " 0.8182025272762224,\n",
              " 0.7235822711246467,\n",
              " 0.8688357280489918,\n",
              " 0.5842591623316798,\n",
              " 0.8865761600273754,\n",
              " 0.9247295387621981,\n",
              " 0.882142332257601]"
            ]
          },
          "metadata": {},
          "execution_count": 84
        }
      ]
    },
    {
      "cell_type": "code",
      "source": [
        "# Cleaning the out-of-sample full model R^2 values\n",
        "OOS_full_cleaned = [value for value in OOS_full if not np.isinf(value) and not np.isnan(value)]\n",
        "\n",
        "plt.boxplot([OOS_full_cleaned, OOS_cut], labels=['Full', 'Cut'], patch_artist=True, boxprops=dict(facecolor=\"plum\"))\n",
        "plt.ylabel('R^2')\n",
        "plt.xlabel('Model')\n",
        "plt.title('R^2 for Full vs. Cut Models')\n",
        "plt.show()"
      ],
      "metadata": {
        "colab": {
          "base_uri": "https://localhost:8080/",
          "height": 472
        },
        "id": "E3GfxJiiyrSF",
        "outputId": "aa263b0c-bd86-4817-dcd5-a235cc7b2c83"
      },
      "execution_count": null,
      "outputs": [
        {
          "output_type": "display_data",
          "data": {
            "text/plain": [
              "<Figure size 640x480 with 1 Axes>"
            ],
            "image/png": "[encoded data removed]"
          },
          "metadata": {}
        }
      ]
    },
    {
      "cell_type": "code",
      "source": [
        "# Calculate average out-of-sample R^2 values for each full and reduced model\n",
        "avg_OOS_full = np.mean(OOS_full)\n",
        "avg_OOS_cut = np.mean(OOS_cut)\n",
        "print(\"Average OOS R^2 for Full Model:\", avg_OOS_full)\n",
        "print(\"Average OOS R^2 for Cut Model:\", avg_OOS_cut)\n",
        "print(\"Average Accuracy for Full Model:\", np.mean(accuracy_full))\n",
        "print(\"Average Accuracy for Cut Model:\", np.mean(accuracy_cut))\n",
        "print(\"Confusion Matrices for Full Model:\")\n",
        "print(confusion_matrices_full)\n",
        "print(\"Confusion Matrices for Cut Model:\")\n",
        "print(confusion_matrices_cut)"
      ],
      "metadata": {
        "colab": {
          "base_uri": "https://localhost:8080/"
        },
        "id": "lvPGieKmytrs",
        "outputId": "277aa980-30cc-4920-d448-a38663ab21fe"
      },
      "execution_count": null,
      "outputs": [
        {
          "output_type": "stream",
          "name": "stdout",
          "text": [
            "Average OOS R^2 for Full Model: 0.7782578330301198\n",
            "Average OOS R^2 for Cut Model: 0.7935104150684757\n",
            "Average Accuracy for Full Model: 0.9508458646616542\n",
            "Average Accuracy for Cut Model: 0.9526002506265664\n",
            "Confusion Matrices for Full Model:\n",
            "[array([[21,  1],\n",
            "       [ 0, 35]]), array([[21,  3],\n",
            "       [ 1, 32]]), array([[14,  1],\n",
            "       [ 1, 41]]), array([[16,  1],\n",
            "       [ 1, 39]]), array([[22,  3],\n",
            "       [ 2, 30]]), array([[26,  1],\n",
            "       [ 1, 29]]), array([[20,  3],\n",
            "       [ 6, 28]]), array([[19,  2],\n",
            "       [ 0, 36]]), array([[16,  0],\n",
            "       [ 0, 41]]), array([[21,  1],\n",
            "       [ 0, 34]])]\n",
            "Confusion Matrices for Cut Model:\n",
            "[array([[21,  1],\n",
            "       [ 0, 35]]), array([[21,  3],\n",
            "       [ 0, 33]]), array([[14,  1],\n",
            "       [ 1, 41]]), array([[16,  1],\n",
            "       [ 1, 39]]), array([[21,  4],\n",
            "       [ 2, 30]]), array([[25,  2],\n",
            "       [ 1, 29]]), array([[21,  2],\n",
            "       [ 5, 29]]), array([[19,  2],\n",
            "       [ 0, 36]]), array([[16,  0],\n",
            "       [ 0, 41]]), array([[21,  1],\n",
            "       [ 0, 34]])]\n"
          ]
        }
      ]
    },
    {
      "cell_type": "markdown",
      "source": [
        "Full Model vs. Reduced Model:\n",
        "\n",
        "The Full Model explains about 77.72% of the variance for new data, with an average out-of-sample R^2 of 0.7772.\n",
        "\n",
        "The Reduced Model does a bit better, explaining around 79.48% of the variance, with an out-of-sample R^2 of 0.7948."
      ],
      "metadata": {
        "id": "FMc9O2X2JdK2"
      }
    },
    {
      "cell_type": "markdown",
      "source": [
        "Evaluation:\n",
        "\n",
        "The reduced model has a slightly higher average out-of-sample R^2 value compared to the full model. This suggests that the reduced model performs better in explaining the variance of the outcome variable on new, out-of-sample data.\n",
        "\n",
        "Despite using fewer predictors, the reduced model does not suffer from a loss of explanatory power. In fact, it slightly improves upon the full model's performance. This could be due to the removal of predictors that do not contribute significantly to the model, which can reduce noise and potential overfitting.\n",
        "\n",
        "For its model simplicity and parsimony, the reduced model is more efficient as it performs slightly better with fewer variables."
      ],
      "metadata": {
        "id": "Ehlp6gQHJibj"
      }
    }
  ],
  "metadata": {
    "colab": {
      "provenance": []
    },
    "kernelspec": {
      "display_name": "Python 3",
      "language": "python",
      "name": "python3"
    },
    "language_info": {
      "codemirror_mode": {
        "name": "ipython",
        "version": 3
      },
      "file_extension": ".py",
      "mimetype": "text/x-python",
      "name": "python",
      "nbconvert_exporter": "python",
      "pygments_lexer": "ipython3",
      "version": "3.12.0"
    }
  },
  "nbformat": 4,
  "nbformat_minor": 0
}